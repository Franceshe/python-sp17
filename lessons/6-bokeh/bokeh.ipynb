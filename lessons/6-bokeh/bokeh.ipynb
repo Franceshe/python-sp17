{
 "cells": [
  {
   "cell_type": "code",
   "execution_count": null,
   "metadata": {
    "collapsed": false
   },
   "outputs": [],
   "source": [
    "import numpy as np\n",
    "import pandas as pd\n",
    "\n",
    "from bokeh.io import output_notebook, show\n",
    "from bokeh.layouts import gridplot\n",
    "from bokeh.plotting import figure\n",
    "from bokeh.sampledata import download\n",
    "\n",
    "download()"
   ]
  },
  {
   "cell_type": "markdown",
   "metadata": {},
   "source": [
    "## Making basic plots"
   ]
  },
  {
   "cell_type": "markdown",
   "metadata": {},
   "source": [
    "### Making line plots"
   ]
  },
  {
   "cell_type": "code",
   "execution_count": null,
   "metadata": {
    "collapsed": false
   },
   "outputs": [],
   "source": [
    "output_notebook()\n",
    "\n",
    "x = np.linspace(0, 10, 30)\n",
    "y = x**2\n",
    "\n",
    "p = figure(plot_width=400, plot_height=400)\n",
    "\n",
    "p.line(x, y, line_width=2)\n",
    "p.circle(x, y, fill_color=\"white\", size=8)\n",
    "\n",
    "show(p)"
   ]
  },
  {
   "cell_type": "markdown",
   "metadata": {},
   "source": [
    "### Configuring plot tools"
   ]
  },
  {
   "cell_type": "markdown",
   "metadata": {},
   "source": [
    "#### Specifying toolsbar location\n",
    "\n",
    "The toolbar location can be specified by passing the `toolbar_location` parameter to the `figure()` function or to any bokeh.charts Chart function. Valid values are:\n",
    "\n",
    "- \"above\"\n",
    "- \"below\"\n",
    "- \"left\"\n",
    "- \"right\"\n"
   ]
  },
  {
   "cell_type": "code",
   "execution_count": null,
   "metadata": {
    "collapsed": false
   },
   "outputs": [],
   "source": [
    "output_notebook()\n",
    "\n",
    "x = np.linspace(0, 10, 30)\n",
    "y = x**2\n",
    "\n",
    "# make sure that the toolbar is on the top\n",
    "p = figure(plot_width=400, plot_height=400, toolbar_location='above')\n",
    "\n",
    "p.line(x, y, line_width=2)\n",
    "p.circle(x, y, fill_color=\"white\", size=8)\n",
    "\n",
    "show(p)\n"
   ]
  },
  {
   "cell_type": "markdown",
   "metadata": {},
   "source": [
    "### Controlling tools\n",
    "\n",
    "List of all of the available tools in `bokeh`\n",
    "\n",
    " - Pan/Drag Tools\n",
    "     - BoxSelectTool ('box_select')\n",
    "     - BoxZoomTool ('box_zoom')\n",
    " - LassoSelectTool ('lasso_select')\n",
    " - PanTool ('pan', 'xpan', 'ypan')\n",
    " - ResizeTool ('resize')\n",
    " - Click/Tap Tools\n",
    "     - PolySelectTool ('poly_select')\n",
    "     - TapSelectTool ('tap')\n",
    " - Scroll/Pinch Tools\n",
    "     - WheelZoomTool ('wheel_zoom', 'xwheel_zoom', 'ywheel_zoom')\n",
    "     - WheelPanTool ('xwheel_pan', 'ywheel_pan')\n",
    " - Actions\n",
    "     - UndoTool ('undo')\n",
    "     - RedoTool ('redo')\n",
    "     - ResetTool ('reset')\n",
    "     - SaveTool ('save')\n",
    "     - ZoomInTool ('zoom_in', 'xzoom_in', 'yzoom_in')\n",
    "     - ZoomOutTool ('zoom_out', 'xzoom_out', 'yzoom_out')\n",
    " - Inspectors\n",
    "     - CrosshairTool ('crosshair')\n",
    "     - HoverTool ('hover')\n"
   ]
  },
  {
   "cell_type": "markdown",
   "metadata": {},
   "source": [
    "The controlling tools could be specified in the high-level interface or programmically. First, let's explore high level API."
   ]
  },
  {
   "cell_type": "markdown",
   "metadata": {},
   "source": [
    "## Styling plots"
   ]
  },
  {
   "cell_type": "markdown",
   "metadata": {},
   "source": [
    "### Positionioning legend\n",
    "\n",
    "- \"top_left\"\n",
    "- \"top_center\"\n",
    "- \"top_right\" (the default)\n",
    "- \"center_right\"\n",
    "- \"bottom_right\"\n",
    "- \"bottom_center\"\n",
    "- \"bottom_left\"\n",
    "- \"center_left\"\n",
    "- \"center\"\n",
    "- or a (x, y) tuple indicating an absolute location in screen coordinates (pixels from the bottom-left corner).\n",
    "\n"
   ]
  },
  {
   "cell_type": "code",
   "execution_count": null,
   "metadata": {
    "collapsed": false
   },
   "outputs": [],
   "source": [
    "tools = ['box_select', 'resize', 'crosshair', 'hover', 'box_zoom', 'reset']\n",
    "\n",
    "from bokeh.models import FixedTicker, PrintfTickFormatter\n",
    "\n",
    "output_notebook()\n",
    "\n",
    "x = np.linspace(0, 10, 30)\n",
    "y_exp = np.exp(0.5 *x)\n",
    "y_x2 = x**2\n",
    "\n",
    "# make sure that the toolbar is on the top\n",
    "plot = figure(plot_width=800, plot_height=400, \n",
    "                toolbar_location='above', tools=tools, \n",
    "                title = 'Example',\n",
    "                y_axis_type=\"log\")\n",
    "\n",
    "#plot first line\n",
    "plot.circle(x, y_exp, size=6, legend='exp(x)', fill_color=None)\n",
    "plot.line(x, y_exp, line_width=2, legend='exp(x)')\n",
    "\n",
    "plot.square(x, y_x2, size=6, legend='x^2', line_color=\"orange\", fill_color=None)\n",
    "plot.line(x, y_x2, line_width=2, legend='x^2', line_color=\"orange\", line_dash=[10, 5])\n",
    "\n",
    "##styling x axis\n",
    "\n",
    "#write label\n",
    "plot.xaxis.axis_label = 'x'\n",
    "\n",
    "#specify font style\n",
    "plot.xaxis.axis_label_text_font_style = 'bold'\n",
    "\n",
    "#specift axis bounds\n",
    "plot.xaxis.bounds = (-1, 11)\n",
    "\n",
    "#specify ticks\n",
    "plot.xaxis.ticker=FixedTicker(ticks=np.linspace(0, 10, 6))\n",
    "\n",
    "#specifying label orientation\n",
    "plot.xaxis.major_label_orientation = np.pi/4\n",
    "\n",
    "#format y axis\n",
    "plot.yaxis.formatter = PrintfTickFormatter(format=\"$%.0f\")\n",
    "plot.xaxis.formatter = PrintfTickFormatter(format=\"%.0f mu\")\n",
    "\n",
    "\n",
    "#scpeifying legend location\n",
    "plot.legend.location = \"top_left\"\n",
    "\n",
    "\n",
    "plot.toolbar.logo = None\n",
    "\n",
    "\n",
    "show(plot)"
   ]
  },
  {
   "cell_type": "markdown",
   "metadata": {},
   "source": [
    "## Linking plots\n",
    "\n"
   ]
  },
  {
   "cell_type": "code",
   "execution_count": null,
   "metadata": {
    "collapsed": false
   },
   "outputs": [],
   "source": [
    "from bokeh.layouts import gridplot\n",
    "from bokeh.plotting import figure\n",
    "from bokeh.models import ColumnDataSource\n",
    "from bokeh import models, palettes\n",
    "\n",
    "import matplotlib as mpl\n",
    "\n",
    "#generate data\n",
    "n_points = 50\n",
    "radius = 3\n",
    "radius_std = 0.6\n",
    "phi = np.random.uniform(-np.pi, np.pi, n_points)\n",
    "rho = np.random.normal(radius, radius_std, n_points)\n",
    "\n",
    "color_map = models.LinearColorMapper(palette=palettes.Viridis256, low = min(rho), high=max(rho))\n",
    "\n",
    "x = rho *np.cos(phi)\n",
    "y = rho *np.sin(phi)\n",
    "\n",
    "TOOLS = \"box_select,lasso_select,help,reset\"\n",
    "\n",
    "#data dictionary\n",
    "\n",
    "data_dict = {'phi': phi, 'rho': rho, 'x': x, 'y': y, 'color': colors}\n",
    "data_source = ColumnDataSource(data=data_dict)\n",
    "\n",
    "\n",
    "# create a new plot\n",
    "fig_left = figure(width=400, height=300, title=None, tools=TOOLS)\n",
    "fig_left.circle('x', 'y', source=data_source, size=10,\n",
    "                line_alpha=0.5,\n",
    "                fill_alpha=0.7, \n",
    "                fill_color={'field': 'rho', 'transform': color_map},)\n",
    "fig_left.xaxis.axis_label = 'x'\n",
    "fig_left.yaxis.axis_label = 'y'\n",
    "\n",
    "\n",
    "\n",
    "# create a new plot and share both ranges\n",
    "fig_right = figure(width=400, height=300, title=None, tools=TOOLS)\n",
    "fig_right.triangle('phi', 'rho', size=10, source=data_source)\n",
    "fig_right.xaxis.axis_label = 'phi'\n",
    "fig_right.yaxis.axis_label = 'rho'\n",
    "\n",
    "\n",
    "p = gridplot([[fig_left, fig_right]])\n",
    "\n",
    "# show the results\n",
    "show(p)"
   ]
  },
  {
   "cell_type": "markdown",
   "metadata": {},
   "source": [
    "### Linked Panning"
   ]
  },
  {
   "cell_type": "code",
   "execution_count": null,
   "metadata": {
    "collapsed": false
   },
   "outputs": [],
   "source": [
    "#set data\n",
    "x = list(range(11))\n",
    "y0 = x\n",
    "y1 = [10-xx for xx in x]\n",
    "y2 = [abs(xx-5) for xx in x]\n",
    "\n",
    "x = list(range(11))\n",
    "y0 = x\n",
    "y1 = [10-xx for xx in x]\n",
    "y2 = [abs(xx-5) for xx in x]\n",
    "\n",
    "# create a new plot\n",
    "s1 = figure(width=250, plot_height=250, title=None)\n",
    "s1.circle(x, y0, size=10, color=\"navy\", alpha=0.5)\n",
    "\n",
    "# create a new plot and share both ranges\n",
    "s2 = figure(width=250, height=250, x_range=s1.x_range, y_range=s1.y_range, title=None)\n",
    "s2.triangle(x, y1, size=10, color=\"firebrick\", alpha=0.5)\n",
    "\n",
    "# create a new plot and share only one range\n",
    "s3 = figure(width=250, height=250, x_range=s1.x_range, title=None)\n",
    "s3.square(x, y2, size=10, color=\"olive\", alpha=0.5)\n",
    "\n",
    "p = gridplot([[s1, s2, s3]], toolbar_location=None)\n",
    "\n",
    "# show the results\n",
    "show(p)\n"
   ]
  },
  {
   "cell_type": "markdown",
   "metadata": {},
   "source": [
    "## Choropleth (patch plot)\n"
   ]
  },
  {
   "cell_type": "code",
   "execution_count": null,
   "metadata": {
    "collapsed": false
   },
   "outputs": [],
   "source": [
    "#Bokeh has \n",
    "from bokeh.sampledata import us_states, us_counties, unemployment\n",
    "\n",
    "us_states = us_states.data.copy()\n",
    "us_counties = us_counties.data.copy()\n",
    "unemployment = unemployment.data\n",
    "\n",
    "del us_states[\"HI\"]\n",
    "del us_states[\"AK\"]\n",
    "\n",
    "state_xs = [us_states[code][\"lons\"] for code in us_states]\n",
    "state_ys = [us_states[code][\"lats\"] for code in us_states]\n",
    "\n",
    "county_xs=[us_counties[code][\"lons\"] for code in us_counties if us_counties[code][\"state\"] not in [\"ak\", \"hi\", \"pr\", \"gu\", \"vi\", \"mp\", \"as\"]]\n",
    "county_ys=[us_counties[code][\"lats\"] for code in us_counties if us_counties[code][\"state\"] not in [\"ak\", \"hi\", \"pr\", \"gu\", \"vi\", \"mp\", \"as\"]]\n",
    "\n",
    "colors = [\"#F1EEF6\", \"#D4B9DA\", \"#C994C7\", \"#DF65B0\", \"#DD1C77\", \"#980043\"]\n",
    "\n",
    "county_colors = []\n",
    "for county_id in us_counties:\n",
    "    if us_counties[county_id][\"state\"] in [\"ak\", \"hi\", \"pr\", \"gu\", \"vi\", \"mp\", \"as\"]:\n",
    "        continue\n",
    "    try:\n",
    "        rate = unemployment[county_id]\n",
    "        idx = min(int(rate/2), 5)\n",
    "        county_colors.append(colors[idx])\n",
    "    except KeyError:\n",
    "        county_colors.append(\"black\")\n",
    "\n",
    "tools = 'box_select, reset,hover,resize'\n",
    "p = figure(title=\"US Unemployment 2009\", toolbar_location=\"left\",\n",
    "    plot_width=1100, plot_height=700, tools=tools)\n",
    "\n",
    "p.patches(county_xs, county_ys, fill_color=county_colors, fill_alpha=0.7,\n",
    "    line_color=\"white\", line_width=0.5)\n",
    "p.patches(state_xs, state_ys, fill_alpha=0.0,\n",
    "    line_color=\"#884444\", line_width=2)\n",
    "\n",
    "show(p)\n"
   ]
  },
  {
   "cell_type": "markdown",
   "metadata": {},
   "source": [
    "## Adding interactive selectors"
   ]
  },
  {
   "cell_type": "code",
   "execution_count": null,
   "metadata": {
    "collapsed": false
   },
   "outputs": [],
   "source": [
    "from ipywidgets import interact\n",
    "import numpy as np\n",
    "\n",
    "from bokeh.io import push_notebook, show, output_notebook\n",
    "from bokeh.plotting import figure\n",
    "output_notebook()\n",
    "\n",
    "x = np.linspace(0, 2*np.pi, 2000)\n",
    "y = np.sin(x)\n",
    "\n",
    "p = figure(title=\"simple line example\", plot_height=300, plot_width=600, y_range=(-5,5))\n",
    "r = p.line(x, y, color=\"#2222aa\", line_width=3)\n",
    "\n",
    "def update(f, w=1, A=1, phi=0):\n",
    "    if   f == \"sin\": func = np.sin\n",
    "    elif f == \"cos\": func = np.cos\n",
    "    elif f == \"tan\": func = np.tan\n",
    "    r.data_source.data['y'] = A * func(w * x + phi)\n",
    "    push_notebook()\n",
    "    \n",
    "show(p, notebook_handle=True)"
   ]
  },
  {
   "cell_type": "code",
   "execution_count": null,
   "metadata": {
    "collapsed": false
   },
   "outputs": [],
   "source": [
    "interact(update, f=[\"sin\", \"cos\", \"tan\"], w=(0,100), A=(1,5), phi=(0, 20, 0.1))"
   ]
  },
  {
   "cell_type": "markdown",
   "metadata": {},
   "source": [
    "## Exercise"
   ]
  },
  {
   "cell_type": "code",
   "execution_count": null,
   "metadata": {
    "collapsed": false
   },
   "outputs": [],
   "source": [
    "from os.path import dirname, join\n",
    "import os\n",
    "\n",
    "\n",
    "import numpy as np\n",
    "import pandas.io.sql as psql\n",
    "import sqlite3 as sql\n",
    "\n",
    "from bokeh.plotting import figure\n",
    "from bokeh.layouts import layout, widgetbox\n",
    "from bokeh.models import ColumnDataSource, HoverTool, Div\n",
    "from bokeh.models.widgets import Slider, Select, TextInput\n",
    "from bokeh.io import curdoc\n",
    "from bokeh.sampledata.movies_data import movie_path\n",
    "\n",
    "conn = sql.connect(movie_path)\n",
    "query = open(join(os.getcwd(), 'query.sql')).read()\n",
    "movies = psql.read_sql(query, conn)\n",
    "movies.head()"
   ]
  },
  {
   "cell_type": "markdown",
   "metadata": {},
   "source": [
    "Add `color` column to the dataframe. Set `color` to `\"orange\"` if movie has Oscars, `\"grey\"` otherwise."
   ]
  },
  {
   "cell_type": "code",
   "execution_count": null,
   "metadata": {
    "collapsed": true
   },
   "outputs": [],
   "source": []
  },
  {
   "cell_type": "markdown",
   "metadata": {},
   "source": [
    "Add column `alpha`, set to 0.9 for movies with Oscar, and 0.25 for movies without Oscar. Fill all of the missing values in the dataframe with zeros"
   ]
  },
  {
   "cell_type": "code",
   "execution_count": null,
   "metadata": {
    "collapsed": true
   },
   "outputs": [],
   "source": []
  },
  {
   "cell_type": "markdown",
   "metadata": {},
   "source": [
    "#### Create list of all genres, find min and max year, number of reviews and box office"
   ]
  },
  {
   "cell_type": "markdown",
   "metadata": {},
   "source": [
    "Find all of the unique genres in the data-set"
   ]
  },
  {
   "cell_type": "code",
   "execution_count": null,
   "metadata": {
    "collapsed": false
   },
   "outputs": [],
   "source": [
    "genre_series = movies['Genre'].str.replace(' ', '').str.split(',')\n",
    "genre_series = genre_series[genre_series.notnull()]\n",
    "genres = list({y for x in genre_series.values for y in x})\n",
    "genres = sorted(genres)\n",
    "genres.insert(0, 'All')\n",
    "genres"
   ]
  },
  {
   "cell_type": "markdown",
   "metadata": {},
   "source": [
    "Find min and max year, number of reviews, box office in millions and number Oscars"
   ]
  },
  {
   "cell_type": "code",
   "execution_count": null,
   "metadata": {
    "collapsed": false
   },
   "outputs": [],
   "source": []
  },
  {
   "cell_type": "markdown",
   "metadata": {},
   "source": [
    "Write a moviea selector function, filter on minumum numbter of reviews, minumum box office, min and max year and min number of Oscars.\n",
    "Add a genre selector, be mindfull with `genre=\"All\"`"
   ]
  },
  {
   "cell_type": "code",
   "execution_count": null,
   "metadata": {
    "collapsed": true
   },
   "outputs": [],
   "source": []
  },
  {
   "cell_type": "markdown",
   "metadata": {},
   "source": [
    "Creata a `ColumnDataSource` and select the data with some default  using `select_movies` function"
   ]
  },
  {
   "cell_type": "code",
   "execution_count": null,
   "metadata": {
    "collapsed": false
   },
   "outputs": [],
   "source": []
  },
  {
   "cell_type": "markdown",
   "metadata": {},
   "source": [
    "Create a figure object and a scatter plot, with a custom `HoverTool`, diplay `Title`, `Year` and `revenue` on the plots"
   ]
  },
  {
   "cell_type": "code",
   "execution_count": null,
   "metadata": {
    "collapsed": true
   },
   "outputs": [],
   "source": []
  },
  {
   "cell_type": "markdown",
   "metadata": {},
   "source": [
    "Define an update function. Do not forget to apply `push_notebook()` in the end"
   ]
  },
  {
   "cell_type": "code",
   "execution_count": null,
   "metadata": {
    "collapsed": true
   },
   "outputs": [],
   "source": [
    "def update(genre='All', reviews=0, boxoffice=0, min_year=1980, max_year=2016, oscars=0):\n",
    "\n",
    "    #your code here\n",
    "    \n",
    "    push_notebook()\n"
   ]
  },
  {
   "cell_type": "markdown",
   "metadata": {},
   "source": [
    "Show the plot with `notebook_handle=True`"
   ]
  },
  {
   "cell_type": "code",
   "execution_count": null,
   "metadata": {
    "collapsed": false
   },
   "outputs": [],
   "source": [
    "show(p, notebook_handle=True)"
   ]
  },
  {
   "cell_type": "code",
   "execution_count": 293,
   "metadata": {
    "collapsed": false
   },
   "outputs": [
    {
     "data": {
      "text/plain": [
       "<function __main__.update>"
      ]
     },
     "execution_count": 293,
     "metadata": {},
     "output_type": "execute_result"
    }
   ],
   "source": [
    "interact(update, genre= genres, reviews=review_lims, boxoffice=boxoffice_lims, min_year=year_lims, max_year=year_lims, \n",
    "         oscars=oscar_lims)"
   ]
  }
 ],
 "metadata": {
  "kernelspec": {
   "display_name": "Python 3",
   "language": "python",
   "name": "python3"
  },
  "language_info": {
   "codemirror_mode": {
    "name": "ipython",
    "version": 3
   },
   "file_extension": ".py",
   "mimetype": "text/x-python",
   "name": "python",
   "nbconvert_exporter": "python",
   "pygments_lexer": "ipython3",
   "version": "3.4.5"
  },
  "widgets": {
   "state": {
    "cd0b5dabb6ad4403a4890cdc28d73717": {
     "views": [
      {
       "cell_index": 42
      }
     ]
    },
    "fce3b614c16c4a7598fd969283d988c9": {
     "views": [
      {
       "cell_index": 18
      }
     ]
    }
   },
   "version": "1.2.0"
  }
 },
 "nbformat": 4,
 "nbformat_minor": 0
}
