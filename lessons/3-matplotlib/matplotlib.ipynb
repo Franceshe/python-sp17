{
 "cells": [
  {
   "cell_type": "markdown",
   "metadata": {},
   "source": [
    "[![](https://bytebucket.org/davis68/resources/raw/f7c98d2b95e961fae257707e22a58fa1a2c36bec/logos/baseline_cse_wdmk.png?token=be4cc41d4b2afe594f5b1570a3c5aad96a65f0d6)](http://cse.illinois.edu/)"
   ]
  },
  {
   "cell_type": "markdown",
   "metadata": {},
   "source": [
    "# Plotting in Python\n",
    "\n",
    "<a id='intro'></a>\n",
    "## Introduction\n",
    "\n",
    "This notebook discusses the main features of [MatPlotLib](http://www.matplotlib.org/) (`matplotlib`) and other related plotting packages in a scientific computing context.\n",
    "\n",
    "Although any installation of [IPython](http://ipython.org/) will work with a version of this notebook, we recommend that you download and install [Anaconda](https://continuum.io/downloads) Python.  To launch the notebook, open a command terminal, type `ipython notebook tutorial.ipynb`, and press Return.\n",
    "\n",
    "A few notes on this tutorial:\n",
    "\n",
    "- The code in this tutorial is written for Python 3, so if you have Python 2 then you may need to make some sensible modifications.\n",
    "\n",
    "- Code blocks starting with `$` are intended to be run on the command line, not executed as Python code.\n",
    "\n",
    "## Contents\n",
    "- [Introduction](#intro)\n",
    "- [Plotting in 2D:  `matplotlib`](#mpl)\n",
    "    - [Professional Plotting](#prof)\n",
    "    - [Animating Plots](#anim)\n",
    "- [Prettier Plotting (`seaborn`)](#pretty)\n",
    "    - [Palettes](#palettes)\n",
    "- [More Professional Plotting](#prof-more)\n",
    "- [References](#refs)\n",
    "- [Credits](#credits)"
   ]
  },
  {
   "cell_type": "markdown",
   "metadata": {},
   "source": [
    "#### Standard Header"
   ]
  },
  {
   "cell_type": "markdown",
   "metadata": {},
   "source": [
    "As we will be utilizing a number of packages with reasonably long names, we will adopt the _de facto_ standard module abbreviations in the following header.  We also ensure that our [division behavior is sensible](http://www.python.org/dev/peps/pep-0238/) by importing from `__future__`:  _i.e._, promotion to `double` will occur from `int` or `long` data types involving division:  `1/2 == 0.5`.  Although this is the default in Python 3, it is a trivial way to help this notebook work in Python 2 if that's what you are using."
   ]
  },
  {
   "cell_type": "code",
   "execution_count": null,
   "metadata": {
    "collapsed": false
   },
   "outputs": [],
   "source": [
    "from __future__ import division, print_function\n",
    "\n",
    "import numpy as np\n",
    "import scipy as sp\n",
    "import matplotlib as mpl\n",
    "import matplotlib.pyplot as plt\n",
    "\n",
    "#IPython magic command for inline plotting\n",
    "%matplotlib inline\n",
    "#a better plot shape for IPython\n",
    "mpl.rcParams['figure.figsize']=[15,3]"
   ]
  },
  {
   "cell_type": "code",
   "execution_count": null,
   "metadata": {
    "collapsed": false
   },
   "outputs": [],
   "source": [
    "help(plt.plot)"
   ]
  },
  {
   "cell_type": "markdown",
   "metadata": {},
   "source": [
    "---\n",
    "<a id='mpl'></a>\n",
    "## Plotting in 2D:  `matplotlib`\n",
    "\n",
    "Thus far you have seen the use of a cryptic (or not-so-cryptic) `plt.plot` command many times.  Its syntax is quite similar to the MATLAB `plot` command; indeed, you can even load it with `from matplotlib.pyplot import plot` to save yourself much typing in the future.\n",
    "\n",
    "`plot` displays coordinate pairs in a number of formats.  It is currently the workhorse of 2D plotting in Python, and the MATLAB-like syntax will make basic manipulation accessible to many engineers.\n",
    "\n",
    "There are a number of alternative display commands as well which tweak the output:  `fill` and `errorbar`, for instance.  The MatPlotLib developers maintain a [gallery](http://matplotlib.org/gallery.html) of examples with full source code.\n",
    "\n",
    "You have access to the [entire palette](http://matplotlib.org/api/colors_api.html) of modern systems as well."
   ]
  },
  {
   "cell_type": "code",
   "execution_count": null,
   "metadata": {
    "collapsed": false
   },
   "outputs": [],
   "source": [
    "x = np.linspace(0, 1, 10001)\n",
    "y = np.cos(np.pi/x) * np.exp(-2*x)\n",
    "\n",
    "plt.plot(x, y)\n",
    "plt.show()"
   ]
  },
  {
   "cell_type": "code",
   "execution_count": null,
   "metadata": {
    "collapsed": false
   },
   "outputs": [],
   "source": [
    "plt.plot(x, y, 'r--')"
   ]
  },
  {
   "cell_type": "code",
   "execution_count": null,
   "metadata": {
    "collapsed": false
   },
   "outputs": [],
   "source": [
    "plt.plot(x, y, 'g-', linewidth=3)"
   ]
  },
  {
   "cell_type": "code",
   "execution_count": null,
   "metadata": {
    "collapsed": false
   },
   "outputs": [],
   "source": [
    "plt.plot(x, y, linewidth=0.5, color='burlywood')"
   ]
  },
  {
   "cell_type": "code",
   "execution_count": null,
   "metadata": {
    "collapsed": false
   },
   "outputs": [],
   "source": [
    "plt.plot(x, y, linewidth=5, color='#d1d3d4')\n",
    "plt.xlim(0, 1)"
   ]
  },
  {
   "cell_type": "markdown",
   "metadata": {},
   "source": [
    "#### Exercise"
   ]
  },
  {
   "cell_type": "markdown",
   "metadata": {},
   "source": [
    "* Plot the following equations over the domain $y \\in \\left[-1, 2\\right]$.\n",
    "    * $y = f(x) = x^2 \\exp(-x)$\n",
    "    * $y = f(x) = \\log x$\n",
    "    * $y = f(x) = 1 + x^x + 3 x^4$"
   ]
  },
  {
   "cell_type": "code",
   "execution_count": null,
   "metadata": {
    "collapsed": false
   },
   "outputs": [],
   "source": [
    "x = np.linspace(-1,2,1000)"
   ]
  },
  {
   "cell_type": "markdown",
   "metadata": {},
   "source": [
    "---\n",
    "### Colors"
   ]
  },
  {
   "cell_type": "code",
   "execution_count": null,
   "metadata": {
    "collapsed": false
   },
   "outputs": [],
   "source": [
    "# Named MPL colors\n",
    "for c in mpl.colors.cnames:\n",
    "    print(c, mpl.colors.cnames[c])"
   ]
  },
  {
   "cell_type": "markdown",
   "metadata": {},
   "source": [
    "## RC Parameters\n",
    "\n",
    "If you want to fix the parameters of the plots you can do that using `matplotlib` `rcparameters`. The `rcparameters` could be set dynamicall or statically. You can find the full list of the rc parameters in the file, the full path to the system's default rc parameters file can be accessed using `mpl.matplotlib_fname()`"
   ]
  },
  {
   "cell_type": "code",
   "execution_count": null,
   "metadata": {
    "collapsed": false
   },
   "outputs": [],
   "source": [
    "f = open(mpl.matplotlib_fname(), 'r')\n",
    "for line in f:\n",
    "    print(line)\n",
    "f.close()"
   ]
  },
  {
   "cell_type": "markdown",
   "metadata": {},
   "source": [
    "You can create custom rc files for each directory or you can override the default rc parameters in each scripts either in matplotlob `environment` or `pyplot` environment"
   ]
  },
  {
   "cell_type": "code",
   "execution_count": null,
   "metadata": {
    "collapsed": false
   },
   "outputs": [],
   "source": [
    "x = np.linspace(0, 1, 10001)\n",
    "y = np.cos(np.pi/x) * np.exp(-2*x)\n",
    "\n",
    "mpl.rc('lines', linewidth=3)\n",
    "plt.plot(x, y, 'r--')\n"
   ]
  },
  {
   "cell_type": "code",
   "execution_count": null,
   "metadata": {
    "collapsed": false
   },
   "outputs": [],
   "source": [
    "plt.rcParams['lines.linewidth'] = 4\n",
    "\n",
    "fig = plt.figure()\n",
    "\n",
    "plt.plot(x, y, '--')\n",
    "plt.show()"
   ]
  },
  {
   "cell_type": "markdown",
   "metadata": {},
   "source": [
    "## Error bar plot"
   ]
  },
  {
   "cell_type": "code",
   "execution_count": null,
   "metadata": {
    "collapsed": false
   },
   "outputs": [],
   "source": [
    "x = np.linspace(0, 10, 21)\n",
    "y = 10*np.exp(-x)\n",
    "yerr = np.random.rand(len(x)) * 2*np.exp(-x/2)\n",
    "\n",
    "plt.errorbar(x, y, yerr=yerr)\n",
    "plt.show()"
   ]
  },
  {
   "cell_type": "markdown",
   "metadata": {},
   "source": [
    "Both lower and upper limit of the error bar can be specified"
   ]
  },
  {
   "cell_type": "code",
   "execution_count": null,
   "metadata": {
    "collapsed": false
   },
   "outputs": [],
   "source": [
    "x = np.linspace(0, 10, 21)\n",
    "y = 10*np.exp(-x)\n",
    "yerr = np.random.rand(2, len(x)) * 2*np.exp(-x/2)\n",
    "\n",
    "plt.errorbar(x, y, yerr=yerr)\n",
    "plt.show()"
   ]
  },
  {
   "cell_type": "markdown",
   "metadata": {},
   "source": [
    "Both x and y error bars can be also specified"
   ]
  },
  {
   "cell_type": "code",
   "execution_count": null,
   "metadata": {
    "collapsed": false
   },
   "outputs": [],
   "source": [
    "x = np.arange(0.1, 4, 0.5)\n",
    "y = np.exp(-x)\n",
    "\n",
    "y_err = 0.1 + 0.2 * x\n",
    "x_err_lower = 0.4 * y_err\n",
    "x_err_upper = y_err\n",
    "x_err = [x_err_lower, x_err_upper]\n",
    "\n",
    "mpl.rcParams['figure.figsize']=[8,8]\n",
    "\n",
    "fig, (ax0, ax1) = plt.subplots(nrows=2, sharex=True)\n",
    "ax0.errorbar(x, y, yerr=y_err, fmt='-o')\n",
    "ax0.set_title('variable, symmetric error')\n",
    "\n",
    "ax1.errorbar(x, y, xerr=x_err, fmt='o')\n",
    "ax1.set_title('variable, asymmetric error')\n",
    "ax1.set_yscale('log')\n",
    "plt.show()"
   ]
  },
  {
   "cell_type": "markdown",
   "metadata": {},
   "source": [
    "## Filling the space under the curve"
   ]
  },
  {
   "cell_type": "code",
   "execution_count": null,
   "metadata": {
    "collapsed": false
   },
   "outputs": [],
   "source": [
    "x = np.linspace(0, 2*np.pi, 1001)\n",
    "y = np.sin(2*x**2/np.pi)\n",
    "\n",
    "plt.fill(x, y)\n",
    "plt.show()"
   ]
  },
  {
   "cell_type": "markdown",
   "metadata": {},
   "source": [
    "## Subplots"
   ]
  },
  {
   "cell_type": "markdown",
   "metadata": {},
   "source": [
    "Subplots allow to place multiple plots in a single figure. This is an example of the of subplot layot\n",
    "<img src=\"http://www.scipy-lectures.org/_images/sphx_glr_plot_subplot-grid_001.png\" width=\"500\">"
   ]
  },
  {
   "cell_type": "code",
   "execution_count": null,
   "metadata": {
    "collapsed": false
   },
   "outputs": [],
   "source": [
    "def func(x, y):\n",
    "    return x*(1-x)*np.cos(4*np.pi*x) * np.sin(2*np.pi*np.sqrt(y))\n",
    "\n",
    "# Define the basic grid coordinates.\n",
    "grid_x, grid_y = np.mgrid[0:1:250j, 0:1:250j]\n",
    "\n",
    "# Define a random subset of the grid for which we will generate data.\n",
    "pts = np.random.rand(800,2)\n",
    "vals = func(pts[:,0], pts[:,1])\n",
    "\n",
    "# Load the methods and generate a grid for each approach.\n",
    "from scipy.interpolate import griddata\n",
    "grid_z0 = griddata(pts, vals, (grid_x, grid_y), method='nearest')\n",
    "grid_z1 = griddata(pts, vals, (grid_x, grid_y), method='linear')\n",
    "grid_z2 = griddata(pts, vals, (grid_x, grid_y), method='cubic')\n",
    "\n",
    "from matplotlib import cm\n",
    "plt.subplot(221)\n",
    "plt.imshow(func(grid_x, grid_y).T, extent=(0,1,0,1), origin='lower', cmap=cm.PiYG)\n",
    "plt.plot(pts[:,0], pts[:,1], 'k.', ms=1)\n",
    "plt.title('Original')\n",
    "\n",
    "plt.subplot(222)\n",
    "plt.imshow(grid_z0.T, extent=(0,1,0,1), origin='lower', cmap=cm.PiYG)\n",
    "plt.title('Nearest')\n",
    "\n",
    "plt.subplot(223)\n",
    "plt.imshow(grid_z1.T, extent=(0,1,0,1), origin='lower', cmap=cm.PiYG)\n",
    "plt.title('Linear')\n",
    "\n",
    "plt.subplot(224)\n",
    "plt.imshow(grid_z2.T, extent=(0,1,0,1), origin='lower', cmap=cm.PiYG)\n",
    "plt.title('Cubic')\n",
    "\n",
    "plt.gcf().set_size_inches(12, 12)\n",
    "plt.show()"
   ]
  },
  {
   "cell_type": "markdown",
   "metadata": {},
   "source": [
    "### Exercise\n",
    "\n",
    "Modify following code using subplots"
   ]
  },
  {
   "cell_type": "code",
   "execution_count": null,
   "metadata": {
    "collapsed": false
   },
   "outputs": [],
   "source": [
    "from numpy.random import normal\n",
    "n = (1000,1)\n",
    "x = normal(size=n)\n",
    "\n",
    "avg = np.mean(x)\n",
    "std = np.std(x)\n",
    "\n",
    "x_avg  = np.ones(n)* avg\n",
    "x_stdl = np.ones(n)*(avg-std)\n",
    "x_stdh = np.ones(n)*(avg+std)\n",
    "\n",
    "plt.plot(x,'bx',x_avg,'r-',x_stdl,'r--',x_stdh,'r--')\n",
    "plt.title('%d Random Gaussian Numbers' % n[0]);\n",
    "plt.xlabel(r'$n$');\n",
    "plt.ylabel(r'$U(n)$')\n",
    "plt.show()\n",
    "\n",
    "plt.hist(x,bins=20)\n",
    "plt.title('Distribution of %d Random Gaussian Numbers' % n[0]);\n",
    "plt.xlabel(r'$U(n)$');\n",
    "plt.ylabel(r'Frequency of $U$')\n",
    "plt.show()"
   ]
  },
  {
   "cell_type": "code",
   "execution_count": null,
   "metadata": {
    "collapsed": false
   },
   "outputs": [],
   "source": [
    "from numpy.random import normal\n",
    "n = (1000,1)\n",
    "x = normal(size=n)\n",
    "\n",
    "avg = np.mean(x)\n",
    "std = np.std(x)\n",
    "\n",
    "x_avg  = np.ones(n)* avg\n",
    "x_stdl = np.ones(n)*(avg-std)\n",
    "x_stdh = np.ones(n)*(avg+std)\n",
    "\n",
    "fig, ax = plt.subplots(2, 1)\n",
    "\n",
    "# Your code here"
   ]
  },
  {
   "cell_type": "markdown",
   "metadata": {},
   "source": [
    "Now let's change the default font size and see what happens to the plot."
   ]
  },
  {
   "cell_type": "code",
   "execution_count": null,
   "metadata": {
    "collapsed": false
   },
   "outputs": [],
   "source": [
    "from numpy.random import normal\n",
    "n = (1000,1)\n",
    "x = normal(size=n)\n",
    "\n",
    "avg = np.mean(x)\n",
    "std = np.std(x)\n",
    "\n",
    "x_avg  = np.ones(n)* avg\n",
    "x_stdl = np.ones(n)*(avg-std)\n",
    "x_stdh = np.ones(n)*(avg+std)\n",
    "\n",
    "fig, ax = plt.subplots(2, 1)\n",
    "ax[0].plot(x,'bx',x_avg,'r-',x_stdl,'r--',x_stdh,'r--')\n",
    "ax[0].set_title('%d Random Gaussian Numbers' % n[0], fontsize=30);\n",
    "ax[0].set_xlabel(r'$n$', fontsize=15);\n",
    "ax[0].set_ylabel(r'$U(n)$', fontsize=15)\n",
    "\n",
    "ax[1].hist(x,bins=20)\n",
    "ax[1].set_title('Distribution of %d Random Gaussian Numbers' % n[0], fontsize=30);\n",
    "ax[1].set_xlabel(r'$U(n)$', fontsize=15);\n",
    "ax[1].set_ylabel(r'Frequency of $U$', fontsize=15)\n",
    "plt.tight_layout()\n",
    "plt.show()"
   ]
  },
  {
   "cell_type": "markdown",
   "metadata": {},
   "source": [
    "## Customizing location of the ticks and axis limits\n",
    "\n",
    "Sometimes the axis selected automatically will not display the ticks that you want"
   ]
  },
  {
   "cell_type": "code",
   "execution_count": null,
   "metadata": {
    "collapsed": false
   },
   "outputs": [],
   "source": [
    "x = np.linspace(-0.23, 2.3, 10001)\n",
    "y = np.cos(np.pi/x) * np.exp(-2*x)\n",
    "\n",
    "plt.rcParams['font.size']=26\n",
    "\n",
    "fig = plt.figure(figsize=(6, 6))\n",
    "plt.plot(x, y, 'r-', linewidth=2)\n",
    "plt.xlabel('x')\n",
    "plt.ylabel('y')\n",
    "plt.tight_layout()\n",
    "\n",
    "plt.show()"
   ]
  },
  {
   "cell_type": "markdown",
   "metadata": {},
   "source": [
    "You can set limit of the plot view with `xlim` and `ylim` functions. `xticks` and `yticks` let you specify the location of axes ticks"
   ]
  },
  {
   "cell_type": "code",
   "execution_count": null,
   "metadata": {
    "collapsed": false
   },
   "outputs": [],
   "source": [
    "fig = plt.figure(figsize=(6, 6))\n",
    "plt.plot(x, y, 'r-', linewidth=2)\n",
    "plt.xlabel('x')\n",
    "plt.ylabel('y')\n",
    "plt.xlim(0, 2)\n",
    "plt.ylim(-1, 1)\n",
    "\n",
    "plt.xticks(np.linspace(0, 2, 5))\n",
    "\n",
    "plt.tight_layout()\n",
    "\n",
    "plt.show()"
   ]
  },
  {
   "cell_type": "markdown",
   "metadata": {},
   "source": [
    "`ticks` function allow to specify the labels on the axes as well"
   ]
  },
  {
   "cell_type": "code",
   "execution_count": null,
   "metadata": {
    "collapsed": false
   },
   "outputs": [],
   "source": [
    "fig = plt.figure(figsize=(6, 6))\n",
    "plt.plot(x, y, 'r-', linewidth=2)\n",
    "plt.xlabel('x')\n",
    "plt.ylabel('y')\n",
    "plt.xlim(0, 2)\n",
    "plt.ylim(-1, 1)\n",
    "\n",
    "ticks_vals = np.linspace(0, 2, 3)\n",
    "ticks_labels = ['one', 'two', 'three']\n",
    "plt.xticks(ticks_vals, ticks_labels)\n",
    "\n",
    "plt.tight_layout()\n",
    "\n",
    "plt.show()"
   ]
  },
  {
   "cell_type": "markdown",
   "metadata": {},
   "source": [
    "As you have noticed the x and y ticks are overlapping now. It can be easily fixed by changing ticks padding in rc parameters"
   ]
  },
  {
   "cell_type": "code",
   "execution_count": null,
   "metadata": {
    "collapsed": false
   },
   "outputs": [],
   "source": [
    "plt.rcParams['xtick.major.pad'] = 8\n",
    "plt.rcParams['ytick.major.pad'] = 8\n",
    "\n",
    "fig = plt.figure(figsize=(6, 6))\n",
    "plt.plot(x, y, 'r-', linewidth=2)\n",
    "plt.xlabel('x')\n",
    "plt.ylabel('y')\n",
    "plt.xlim(0, 2)\n",
    "plt.ylim(-1, 1)\n",
    "\n",
    "plt.xticks(np.linspace(0, 2, 5))\n",
    "\n",
    "plt.tight_layout()\n",
    "\n",
    "plt.show()"
   ]
  },
  {
   "cell_type": "markdown",
   "metadata": {},
   "source": [
    "Before proceeding change the deafult value of the font size to 10 in rc parameters"
   ]
  },
  {
   "cell_type": "code",
   "execution_count": null,
   "metadata": {
    "collapsed": true
   },
   "outputs": [],
   "source": []
  },
  {
   "cell_type": "markdown",
   "metadata": {},
   "source": [
    "### Exercise\n",
    "\n",
    "Plots values of $cos(x)$ between $-\\pi$ and $\\pi$ on the figure of the size $8\\times8$. Set xticks values with the $\\pi/2$, use latex to change labels in terms of $\\pi$"
   ]
  },
  {
   "cell_type": "code",
   "execution_count": null,
   "metadata": {
    "collapsed": false
   },
   "outputs": [],
   "source": []
  },
  {
   "cell_type": "markdown",
   "metadata": {},
   "source": [
    "## Plotting data in 2D"
   ]
  },
  {
   "cell_type": "markdown",
   "metadata": {
    "collapsed": true
   },
   "source": [
    "### Scatter plots\n",
    "\n",
    "As an example we generate distribution from $N(\\mu, \\Sigma)$ for $mu = (1, 2)^T$ and $\\Sigma = [[1, 0.5], [0.5, 2]$"
   ]
  },
  {
   "cell_type": "code",
   "execution_count": null,
   "metadata": {
    "collapsed": false
   },
   "outputs": [],
   "source": [
    "from numpy.random import multivariate_normal\n",
    "\n",
    "#distribution parameters\n",
    "mu = [1, 2]\n",
    "sigma = [[1, 0.5], [0.5, 2]]\n",
    "\n",
    "#sample size\n",
    "sample_size = 500\n",
    "\n",
    "X = multivariate_normal(mu, sigma, sample_size)\n",
    "\n",
    "fig = plt.figure()\n",
    "plt.scatter(X[:, 0], X[:, 1])\n",
    "plt.show()"
   ]
  },
  {
   "cell_type": "code",
   "execution_count": null,
   "metadata": {
    "collapsed": false
   },
   "outputs": [],
   "source": [
    "help(plt.scatter)"
   ]
  },
  {
   "cell_type": "markdown",
   "metadata": {},
   "source": [
    "Option `s` controlls the size of the point, `c` controls the color, `alpha` controls transparency"
   ]
  },
  {
   "cell_type": "code",
   "execution_count": null,
   "metadata": {
    "collapsed": false
   },
   "outputs": [],
   "source": [
    "X = multivariate_normal(mu, sigma, sample_size)\n",
    "xy = np.apply_along_axis(sum, 1, X)\n",
    "\n",
    "fig = plt.figure()\n",
    "plt.scatter(X[:, 0], X[:, 1], c=xy, s=2, alpha=4)\n",
    "plt.show()"
   ]
  },
  {
   "cell_type": "markdown",
   "metadata": {},
   "source": [
    "### Excersize\n",
    " Modify previous example to set size of the points proportional to $(x+y)^2$. Set the color constant"
   ]
  },
  {
   "cell_type": "code",
   "execution_count": null,
   "metadata": {
    "collapsed": true
   },
   "outputs": [],
   "source": [
    "#Your code here"
   ]
  },
  {
   "cell_type": "markdown",
   "metadata": {},
   "source": [
    "## Displaying structured data in 2D\n",
    "\n",
    "There are four major functions in `pyplot` that can display structured data: `imshow`, `pcolor`, `pcolormesh` and `pcolorfast`."
   ]
  },
  {
   "cell_type": "code",
   "execution_count": null,
   "metadata": {
    "collapsed": false
   },
   "outputs": [],
   "source": [
    "#define grid in x and y dimensions\n",
    "x_grid = np.linspace(-3, 3, 100)\n",
    "y_grid = np.linspace(-2, 2, 100)\n",
    "\n",
    "#calcualte meshgrid\n",
    "x_mesh, y_mesh = np.meshgrid(x_grid, y_grid)\n",
    "\n",
    "#define function of x and y\n",
    "def f(x, y):\n",
    "    return (1 - x / 2 + x ** 5 + y ** 3) * np.exp(-x ** 2 - y ** 2)\n",
    "\n",
    "z_mesh =  f(x_mesh, y_mesh)\n",
    "plt.imshow(z_mesh)\n",
    "plt.show()"
   ]
  },
  {
   "cell_type": "markdown",
   "metadata": {},
   "source": [
    "Try applying `xlim` and `ylim` to `imshow`"
   ]
  },
  {
   "cell_type": "code",
   "execution_count": null,
   "metadata": {
    "collapsed": false
   },
   "outputs": [],
   "source": [
    "#define grid in x and y dimensions\n",
    "x_grid = np.linspace(-3, 3, 100)\n",
    "y_grid = np.linspace(-2, 2, 100)\n",
    "\n",
    "#calcualte meshgrid\n",
    "x_mesh, y_mesh = np.meshgrid(x_grid, y_grid)\n",
    "\n",
    "#define function of x and y\n",
    "def f(x, y):\n",
    "    return (1 - x / 2 + x ** 5 + y ** 3) * np.exp(-x ** 2 - y ** 2)\n",
    "\n",
    "z_mesh =  f(x_mesh, y_mesh)\n",
    "plt.imshow(z_mesh, extent=(-3,3,-2,2))\n",
    "#\n",
    "plt.show()"
   ]
  },
  {
   "cell_type": "markdown",
   "metadata": {},
   "source": [
    "`pcolor*` functions are more suitable for the structured data plots, imshow is suitable for matrix plots"
   ]
  },
  {
   "cell_type": "code",
   "execution_count": null,
   "metadata": {
    "collapsed": false
   },
   "outputs": [],
   "source": [
    "#define grid in x and y dimensions\n",
    "x_grid = np.linspace(-3, 3, 100)\n",
    "y_grid = np.linspace(-2, 2, 100)\n",
    "\n",
    "#calcualte meshgrid\n",
    "x_mesh, y_mesh = np.meshgrid(x_grid, y_grid)\n",
    "\n",
    "#define function of x and y\n",
    "def f(x, y):\n",
    "    return (1 - x / 2 + x ** 5 + y ** 3) * np.exp(-x ** 2 - y ** 2)\n",
    "\n",
    "z_mesh =  f(x_mesh, y_mesh)\n",
    "plt.pcolor(x_mesh, y_mesh, z_mesh)\n",
    "\n",
    "plt.show()"
   ]
  },
  {
   "cell_type": "markdown",
   "metadata": {},
   "source": [
    "Try applying `xlim` and `ylim` to `pcolor`"
   ]
  },
  {
   "cell_type": "code",
   "execution_count": null,
   "metadata": {
    "collapsed": true
   },
   "outputs": [],
   "source": []
  },
  {
   "cell_type": "markdown",
   "metadata": {},
   "source": [
    "Replace `pcolor` in the following code with `pcolormesh` and `pcolorfast`, and see how it works"
   ]
  },
  {
   "cell_type": "code",
   "execution_count": null,
   "metadata": {
    "collapsed": false
   },
   "outputs": [],
   "source": [
    "#define grid in x and y dimensions\n",
    "x_grid = np.linspace(-3, 3, 100)\n",
    "y_grid = np.linspace(-2, 2, 100)\n",
    "\n",
    "#calcualte meshgrid\n",
    "x_mesh, y_mesh = np.meshgrid(x_grid, y_grid)\n",
    "\n",
    "#define function of x and y\n",
    "def f(x, y):\n",
    "    return (1 - x / 2 + x ** 5 + y ** 3) * np.exp(-x ** 2 - y ** 2)\n",
    "\n",
    "z_mesh =  f(x_mesh, y_mesh)\n",
    "fig,ax = plt.subplots()\n",
    "ax.pcolorfast(x_grid, y_grid, z_mesh)\n",
    "plt.show()"
   ]
  },
  {
   "cell_type": "markdown",
   "metadata": {},
   "source": [
    "Even the functionality of the `pcolor*` and `imshow` functions is similar they use different algorithms on the background, which affects performance. For the next example we will try to render a fairly large matrix. Fill in the missing code"
   ]
  },
  {
   "cell_type": "code",
   "execution_count": null,
   "metadata": {
    "collapsed": false
   },
   "outputs": [],
   "source": [
    "def f(x, y):\n",
    "    return (1 - x / 2 + x ** 5 + y ** 3) * np.exp(-x ** 2 - y ** 2)\n",
    "\n",
    "\n",
    "def plot_imshow(n):\n",
    "    x_grid = np.linspace(-3, 3, n)\n",
    "    y_grid = np.linspace(-2, 2, n)\n",
    "\n",
    "    #calcualte meshgrid\n",
    "    x_mesh, y_mesh = np.meshgrid(x_grid, y_grid)\n",
    "\n",
    "    #define function of x and y\n",
    "\n",
    "    z_mesh =  f(x_mesh, y_mesh)\n",
    "    \n",
    "    plt.close('all')\n",
    "    fig = plt.figure()\n",
    "    plt.imshow(z_mesh)\n",
    "    plt.close()\n",
    "    \n",
    "    return fig\n",
    "    \n",
    "def plot_pcolor(n):\n",
    "    x_grid = np.linspace(-3, 3, n)\n",
    "    y_grid = np.linspace(-2, 2, n)\n",
    "\n",
    "    #calcualte meshgrid\n",
    "    x_mesh, y_mesh = np.meshgrid(x_grid, y_grid)\n",
    "\n",
    "    #define function of x and y\n",
    "\n",
    "    z_mesh =  f(x_mesh, y_mesh)\n",
    "    plt.close('all')\n",
    "    fig = plt.figure()\n",
    "    plt.pcolor(z_mesh)\n",
    "    plt.close()\n",
    "    \n",
    "def plot_pcolormesh(n):\n",
    "    \n",
    "    #YOUR CODE HERE\n",
    "    \n",
    "def plot_pcolorfast(n):\n",
    "    \n",
    "    #YOUR CODE HERE\n",
    "\n"
   ]
  },
  {
   "cell_type": "code",
   "execution_count": null,
   "metadata": {
    "collapsed": true
   },
   "outputs": [],
   "source": [
    "n = 500"
   ]
  },
  {
   "cell_type": "code",
   "execution_count": null,
   "metadata": {
    "collapsed": false
   },
   "outputs": [],
   "source": [
    "%timeit -r 3 plot_imshow(n)"
   ]
  },
  {
   "cell_type": "code",
   "execution_count": null,
   "metadata": {
    "collapsed": false
   },
   "outputs": [],
   "source": [
    "%timeit -r 3 plot_pcolor(n)"
   ]
  },
  {
   "cell_type": "code",
   "execution_count": null,
   "metadata": {
    "collapsed": true
   },
   "outputs": [],
   "source": [
    "%timeit -r 3 plot_pcolormesh(n)"
   ]
  },
  {
   "cell_type": "code",
   "execution_count": null,
   "metadata": {
    "collapsed": true
   },
   "outputs": [],
   "source": [
    "%timeit -r 3 plot_pcolorfast(n)"
   ]
  },
  {
   "cell_type": "markdown",
   "metadata": {},
   "source": [
    "### Exercise\n",
    "\n",
    "Use subplots to plot the same `func(x, y)` on the plot using `imshow`, `polor`, `pcolormesh` and `pcolorfast`\n"
   ]
  },
  {
   "cell_type": "code",
   "execution_count": null,
   "metadata": {
    "collapsed": true
   },
   "outputs": [],
   "source": []
  },
  {
   "cell_type": "markdown",
   "metadata": {},
   "source": [
    "---\n",
    "<a id='prof'></a>\n",
    "### Professional Plotting\n",
    "\n",
    "Using standard commands, you can easily design publication-quality output.  (This is one place where an interactive shell like IPython really shines.)  You can save the figures as high-resolution PNGs (or other file types).  You can even use $\\LaTeX$ markup in raw Python strings to yield mathematical formulae in labels, titles, and legends."
   ]
  },
  {
   "cell_type": "code",
   "execution_count": null,
   "metadata": {
    "collapsed": false
   },
   "outputs": [],
   "source": [
    "mpl.rcParams['figure.figsize']=[15,3]"
   ]
  },
  {
   "cell_type": "code",
   "execution_count": null,
   "metadata": {
    "collapsed": false
   },
   "outputs": [],
   "source": [
    "from numpy.polynomial import Chebyshev as T\n",
    "from numpy.polynomial import Polynomial as P\n",
    "x = np.linspace(-1, 1, 100)\n",
    "for i in range(6):\n",
    "    ax = plt.plot(x, T.basis(i)(x), lw=2, label=r'$T_%d$'%i)\n",
    "    print(r'T_%d(x) = %s'%(i, T.basis(i).convert(kind=P)))\n",
    "plt.legend(loc=\"upper left\")\n",
    "plt.savefig('chebyshev.png', dpi=120, transparent=True)\n",
    "plt.show()"
   ]
  },
  {
   "cell_type": "code",
   "execution_count": null,
   "metadata": {
    "collapsed": false
   },
   "outputs": [],
   "source": [
    "from numpy.polynomial import Laguerre as L\n",
    "x = np.linspace(0, 4, 100)\n",
    "for i in range(6):\n",
    "    ax = plt.plot(x, L.basis(i)(x), lw=2, label=r'$L_%d$'%i)\n",
    "    print(r'L_%d(x) = %s'%(i, L.basis(i).convert(kind=P)))\n",
    "plt.legend(loc=\"lower left\",ncol=3)\n",
    "plt.savefig('laguerre.png', dpi=120, transparent=True)\n",
    "plt.show()"
   ]
  },
  {
   "cell_type": "markdown",
   "metadata": {},
   "source": [
    "- Experiment with the following $\\LaTeX$ labels in the `label` argument in the following code block.  (They won't describe the figure, but whatever...)\n",
    "    - `r'A_i^j (x)$'`\n",
    "    - `r'$(1 - x_0) \\cdot x^{x^x}$'`\n",
    "    - `r'$\\frac{x + y}{x^y}$'`\n",
    "    - `r'$\\int_0^\\infty \\exp(-x) dx$'`\n",
    "    - `r'$\\sum_{n=0}^{10} \\frac{x}{x-5}$'`\n",
    "    - `r'$\\pi = %f$'%np.pi`"
   ]
  },
  {
   "cell_type": "code",
   "execution_count": null,
   "metadata": {
    "collapsed": false
   },
   "outputs": [],
   "source": [
    "x = np.linspace(0, 2*np.pi, 101)\n",
    "plt.plot(x, np.sin(x), lw=2, label=r'$L_i$')\n",
    "plt.legend(loc=\"lower left\", prop={'size':24})\n",
    "plt.show()"
   ]
  },
  {
   "cell_type": "markdown",
   "metadata": {},
   "source": [
    "To get plots really looking sharp, you need to adjust the labels, font sizes, typefaces, and other plot properties for readability."
   ]
  },
  {
   "cell_type": "code",
   "execution_count": null,
   "metadata": {
    "collapsed": false
   },
   "outputs": [],
   "source": [
    "from scipy.special import jv, yv, iv, kv, jn_zeros\n",
    "x = np.linspace(0, 6, 201)\n",
    "y = np.zeros((8, 201))\n",
    "y[0,:] = jv(0, x)\n",
    "y[1,:] = jv(1, x)\n",
    "y[2,:] = yv(0, x)\n",
    "y[3,:] = yv(1, x)\n",
    "y[4,:] = iv(0, x)\n",
    "y[5,:] = iv(1, x)\n",
    "y[6,:] = kv(0, x)\n",
    "y[7,:] = kv(1, x)\n",
    "\n",
    "mpl.rcParams['figure.figsize']=[15,6]"
   ]
  },
  {
   "cell_type": "code",
   "execution_count": null,
   "metadata": {
    "collapsed": false
   },
   "outputs": [],
   "source": [
    "fig = plt.figure()\n",
    "ax = fig.add_subplot(111)\n",
    "ax.plot(x, y[0], 'r-', lw=2, label=r'$J_0(x)$')\n",
    "ax.plot(x, y[1], 'r--', lw=2, label=r'$J_1(x)$')\n",
    "ax.plot(x, y[2], 'b-', lw=2, label=r'$Y_0(x)$')\n",
    "ax.plot(x, y[3], 'b--', lw=2, label=r'$Y_1(x)$')\n",
    "ax.plot(x, y[4], 'g-', lw=2, label=r'$I_0(x)$')\n",
    "ax.plot(x, y[5], 'g--', lw=2, label=r'$I_1(x)$')\n",
    "ax.plot(x, y[6], 'y-', lw=2, label=r'$K_0(x)$')\n",
    "ax.plot(x, y[7], 'y--', lw=2, label=r'$K_1(x)$')\n",
    "\n",
    "ax.set_title(r'Examples of Zeroth- and First-Order Bessel Functions', fontsize=24, family='serif')\n",
    "ax.set_ylabel(r'$f(x)$', fontsize=18)\n",
    "ax.set_xlabel(r'$x$', fontsize=18)\n",
    "ax.set_ylim((-1, 2))\n",
    "\n",
    "from matplotlib import font_manager as fm\n",
    "ticks_font = fm.FontProperties(family='serif', size=14)\n",
    "for label in ax.get_xticklabels(): label.set_fontproperties(ticks_font)\n",
    "for label in ax.get_yticklabels(): label.set_fontproperties(ticks_font)\n",
    "\n",
    "ax.legend(loc='best', prop={'size':18}, ncol=4) #you often have to oversize LaTeX code to make it look right in MPL\n",
    "\n",
    "plt.savefig('bessel.png', dpi=120, transparent=True)\n",
    "plt.show()"
   ]
  },
  {
   "cell_type": "markdown",
   "metadata": {},
   "source": [
    "There are a few situations when you may want your plots to be in black and white, such as publication in a journal or when your article may be photocopied."
   ]
  },
  {
   "cell_type": "code",
   "execution_count": null,
   "metadata": {
    "collapsed": false
   },
   "outputs": [],
   "source": [
    "# the only difference here is that we set the lines to grayscale for publication purposes\n",
    "fig = plt.figure()\n",
    "ax = fig.add_subplot(111)\n",
    "ax.plot(x, y[0], 'k-', lw=2, label=r'$J_0(x)$')\n",
    "ax.plot(x, y[1], 'k--', lw=2, label=r'$J_1(x)$')\n",
    "ax.plot(x, y[2], 'k.', lw=2, label=r'$Y_0(x)$')\n",
    "ax.plot(x, y[3], 'k:', lw=2, label=r'$Y_1(x)$')\n",
    "ax.plot(x, y[4], '-', color=(0.75,0.75,0.75), lw=2, label=r'$I_0(x)$')\n",
    "ax.plot(x, y[5], '--', color=(0.75,0.75,0.75), lw=2, label=r'$I_1(x)$')\n",
    "ax.plot(x, y[6], '.', color=(0.75,0.75,0.75), lw=2, label=r'$K_0(x)$')\n",
    "ax.plot(x, y[7], ':', color=(0.75,0.75,0.75), lw=2, label=r'$K_1(x)$')\n",
    "\n",
    "ax.set_title(r'Examples of Zeroth- and First-Order Bessel Functions', fontsize=24, family='serif')\n",
    "ax.set_ylabel(r'$f(x)$', fontsize=18)\n",
    "ax.set_xlabel(r'$x$', fontsize=18)\n",
    "ax.set_ylim((-1, 2))\n",
    "\n",
    "from matplotlib import font_manager as fm\n",
    "ticks_font = fm.FontProperties(family='serif', size=14)\n",
    "for label in ax.get_xticklabels(): label.set_fontproperties(ticks_font)\n",
    "for label in ax.get_yticklabels(): label.set_fontproperties(ticks_font)\n",
    "\n",
    "ax.legend(loc='best', prop={'size':18}, ncol=4) #you often have to oversize LaTeX code to make it look right in MPL\n",
    "\n",
    "plt.savefig('bessel.png', dpi=120, transparent=True)\n",
    "plt.show()"
   ]
  },
  {
   "cell_type": "markdown",
   "metadata": {},
   "source": [
    "Additionally, accomodating color blindness is a common motivation for choosing a nonstandard palette.\n",
    "\n",
    "[ColorBrewer](http://colorbrewer2.org/#) presents color palettes with a number of filters such as print-friendliness and visibility for the color blind."
   ]
  },
  {
   "cell_type": "code",
   "execution_count": null,
   "metadata": {
    "collapsed": false
   },
   "outputs": [],
   "source": [
    "fig = plt.figure()\n",
    "ax = fig.add_subplot(111, axisbg='darkslategray')\n",
    "ax.plot(x, y[0], '-', color='#b2182b', lw=2, label=r'$J_0(x)$')\n",
    "ax.plot(x, y[1], '-', color='#d6604d', lw=2, label=r'$J_1(x)$')\n",
    "ax.plot(x, y[2], '-', color='#f4a582', lw=2, label=r'$Y_0(x)$')\n",
    "ax.plot(x, y[3], '-', color='#fddbc7', lw=2, label=r'$Y_1(x)$')\n",
    "ax.plot(x, y[4], '-', color='#2166ac', lw=2, label=r'$I_0(x)$')\n",
    "ax.plot(x, y[5], '-', color='#4393c3', lw=2, label=r'$I_1(x)$')\n",
    "ax.plot(x, y[6], '-', color='#92c5de', lw=2, label=r'$K_0(x)$')\n",
    "ax.plot(x, y[7], '-', color='#d1e5f0', lw=2, label=r'$K_1(x)$')\n",
    "\n",
    "ax.set_title(r'Examples of Zeroth- and First-Order Bessel Functions', fontsize=24, family='serif')\n",
    "ax.set_ylabel(r'$f(x)$', fontsize=18)\n",
    "ax.set_xlabel(r'$x$', fontsize=18)\n",
    "ax.set_ylim((-1, 2))\n",
    "\n",
    "from matplotlib import font_manager as fm\n",
    "ticks_font = fm.FontProperties(family='serif', size=14)\n",
    "for label in ax.get_xticklabels(): label.set_fontproperties(ticks_font)\n",
    "for label in ax.get_yticklabels(): label.set_fontproperties(ticks_font)\n",
    "\n",
    "ax.legend(loc='best', prop={'size':18}, ncol=4) #you often have to oversize LaTeX code to make it look right in MPL\n",
    "\n",
    "plt.savefig('bessel.png', dpi=120, transparent=True)\n",
    "plt.show()"
   ]
  },
  {
   "cell_type": "markdown",
   "metadata": {},
   "source": [
    "### Excersize\n",
    "\n",
    "Modify previous example in such way, that as.plot is called from a for loop"
   ]
  },
  {
   "cell_type": "code",
   "execution_count": null,
   "metadata": {
    "collapsed": true
   },
   "outputs": [],
   "source": []
  },
  {
   "cell_type": "markdown",
   "metadata": {},
   "source": [
    "---\n",
    "<a id='anim'></a>\n",
    "### Animating Plots\n",
    "\n",
    "The modes of vibration of a drum are the orthogonal basis functions which uniquely describe any vibration on a struck drumhead."
   ]
  },
  {
   "cell_type": "code",
   "execution_count": null,
   "metadata": {
    "collapsed": false
   },
   "outputs": [],
   "source": [
    "from mpl_toolkits.mplot3d import Axes3D\n",
    "from scipy.special import jn, jn_zeros\n",
    "mpl.rcParams['figure.figsize']=[12,8]\n",
    "\n",
    "def drumhead_height(n, k, distance, angle, t):\n",
    "    nth_zero = jn_zeros(n, k)\n",
    "    return np.cos(t)*np.cos(n*angle)*jn(n, distance*nth_zero[-1])\n",
    "\n",
    "# Define polar and cartesian coordinates for the drum.\n",
    "theta  = np.r_[0:2*np.pi:50j]\n",
    "radius = np.r_[0:1:50j]\n",
    "x = np.array([r*np.cos(theta) for r in radius])\n",
    "y = np.array([r*np.sin(theta) for r in radius])\n",
    "\n",
    "radial_nodes  = 2\n",
    "zeros = 3\n",
    "\n",
    "# Define the base plot.\n",
    "fig = plt.figure()\n",
    "\n",
    "# Display the desired angular nodes.\n",
    "ax = fig.add_subplot(1,1,1,projection='3d')\n",
    "z = np.array([drumhead_height(radial_nodes, zeros, r, theta, 0.5) for r in radius])\n",
    "ax.plot_surface(x,y,z,rstride=1,cstride=1,cmap=mpl.cm.jet)\n",
    "\n",
    "plt.show()"
   ]
  },
  {
   "cell_type": "markdown",
   "metadata": {},
   "source": [
    "Let's display several at once."
   ]
  },
  {
   "cell_type": "code",
   "execution_count": null,
   "metadata": {
    "collapsed": false
   },
   "outputs": [],
   "source": [
    "from mpl_toolkits.mplot3d import Axes3D\n",
    "from scipy.special import jn, jn_zeros\n",
    "import subprocess\n",
    "\n",
    "def drumhead_height(n, k, distance, angle, t):\n",
    "    nth_zero = jn_zeros(n, k)\n",
    "    return np.cos(t)*np.cos(n*angle)*jn(n, distance*nth_zero[-1])\n",
    "\n",
    "# Define polar and cartesian coordinates for the drum.\n",
    "theta  = np.r_[0:2*np.pi:50j]\n",
    "radius = np.r_[0:1:50j]\n",
    "x = np.array([r*np.cos(theta) for r in radius])\n",
    "y = np.array([r*np.sin(theta) for r in radius])\n",
    "\n",
    "radial_nodes = 3\n",
    "zeros = 2\n",
    "\n",
    "# Define the base plot.\n",
    "fig = plt.figure(num=None,figsize=(16,16),dpi=120,facecolor='w',edgecolor='k')\n",
    "ax = list()\n",
    "\n",
    "# Loop over the desired angular nodes.\n",
    "cnt = 0\n",
    "pixcnt = 0\n",
    "\n",
    "t = 0\n",
    "cnt = 0\n",
    "pixcnt += 1\n",
    "for i in np.r_[0:radial_nodes+1:1]:\n",
    "    for j in np.r_[1:zeros+1:1]:\n",
    "        cnt += 1;\n",
    "        ax.append(fig.add_subplot(radial_nodes+1,zeros,cnt,projection='3d'))\n",
    "        z = np.array([drumhead_height(i, j, r, theta, t) for r in radius])\n",
    "        ax[-1].set_xlabel('R@%d,A@%d' % (i,j))\n",
    "        ax[-1].plot_surface(x,y,z,rstride=1,cstride=1,cmap=mpl.cm.Accent,linewidth=0,vmin=-1,vmax=1)\n",
    "        ax[-1].set_zlim(-1,1)\n",
    "plt.show()"
   ]
  },
  {
   "cell_type": "markdown",
   "metadata": {},
   "source": [
    "We could then write them to disk sequentially.\n",
    "\n",
    "<div class = \"alert alert-danger\">\n",
    "**Warning**\n",
    "<br/>\n",
    "This may take several minutes to complete, so you can opt not to run it.  If you have started it and want to interrupt the execution of the cell, select *Kernel→Interrupt* from the menu above.\n",
    "</div>"
   ]
  },
  {
   "cell_type": "code",
   "execution_count": null,
   "metadata": {
    "collapsed": false
   },
   "outputs": [],
   "source": [
    "from mpl_toolkits.mplot3d import Axes3D\n",
    "from scipy.special import jn, jn_zeros\n",
    "import subprocess\n",
    "\n",
    "def drumhead_height(n, k, distance, angle, t):\n",
    "    nth_zero = jn_zeros(n, k)\n",
    "    return np.cos(t)*np.cos(n*angle)*jn(n, distance*nth_zero[-1])\n",
    "\n",
    "# Define polar and cartesian coordinates for the drum.\n",
    "theta  = np.r_[0:2*np.pi:50j]\n",
    "radius = np.r_[0:1:50j]\n",
    "x = np.array([r*np.cos(theta) for r in radius])\n",
    "y = np.array([r*np.sin(theta) for r in radius])\n",
    "\n",
    "radial_nodes = 3\n",
    "zeros = 2\n",
    "\n",
    "# Define the base plot.\n",
    "fig = plt.figure(num=None,figsize=(16,16),dpi=120,facecolor='w',edgecolor='k')\n",
    "ax = list()\n",
    "\n",
    "# Loop over the desired angular nodes.\n",
    "cnt = 0\n",
    "pixcnt = 0\n",
    "#plt.ion()\n",
    "for t in np.r_[0:2*np.pi:40j]:\n",
    "    cnt = 0\n",
    "    pixcnt += 1\n",
    "    for i in np.r_[0:radial_nodes+1:1]:\n",
    "        for j in np.r_[1:zeros+1:1]:\n",
    "            cnt += 1;\n",
    "            ax.append(fig.add_subplot(radial_nodes+1,zeros,cnt,projection='3d'))\n",
    "            z = np.array([drumhead_height(i, j, r, theta, t) for r in radius])\n",
    "            ax[-1].set_xlabel('R@%d,A@%d' % (i,j))\n",
    "            ax[-1].plot_surface(x,y,z,rstride=1,cstride=1,cmap=mpl.cm.Accent,linewidth=0,vmin=-1,vmax=1)\n",
    "            ax[-1].set_zlim(-1,1)\n",
    "    #plt.show()\n",
    "    plt.savefig('./drum-modes-%d.png' % pixcnt, format='png')"
   ]
  },
  {
   "cell_type": "markdown",
   "metadata": {},
   "source": [
    "Finally, we could collect them as an animated GIF using the following code."
   ]
  },
  {
   "cell_type": "code",
   "execution_count": null,
   "metadata": {
    "collapsed": false
   },
   "outputs": [],
   "source": [
    "# Collate pictures to an animated GIF.\n",
    "import os,string\n",
    "cwd = os.getcwd()\n",
    "cmd = 'cd %s; ls drum-modes*.png | sort -k1.12n'%cwd\n",
    "png_files = os.popen(cmd)\n",
    "png_files_list = string.join(png_files.readlines()).replace('\\n',' ')\n",
    "os.popen('convert -delay 10 -loop 1 %s ./drum-animate.gif'%png_files_list)"
   ]
  },
  {
   "cell_type": "markdown",
   "metadata": {},
   "source": [
    "![](https://raw.githubusercontent.com/uiuc-cse/python-sp15/gh-pages/lessons/img/drum-animate.gif)\n",
    "\n",
    "There are also ways to [generate animated plots](http://matplotlib.org/api/animation_api.html) in MatPlotLib, but that's beyond the scope of this tutorial.\n",
    "\n",
    "If you are more interested in 3D plotting, please take a look at [Mayavi](code.enthought.com/projects/mayavi/)."
   ]
  },
  {
   "cell_type": "markdown",
   "metadata": {},
   "source": [
    "---\n",
    "<a id='pretty'></a>\n",
    "## Prettier Plotting (`seaborn`)\n",
    "\n",
    "MatPlotLib is a stable basis for plotting in Python, but for domain applications or specialized needs it can fall short.  In addition, the default settings (colormaps, etc.) are not as attractive as they could be.  One solutions to these problems builds directly on MPL:\n",
    "-   [Seaborn](https://github.com/mwaskom/seaborn) is designed to create high-level statistical graphics with a high degree of customizability.\n",
    "\n",
    "To install `seaborn` in Canopy, please open a new terminal window and enter the following (on the EWS machines):\n",
    "\n",
    "    module load canopy\n",
    "    canopy\n",
    "\n",
    "This will open the interface where you can log in and install new packages, including `seaborn`."
   ]
  },
  {
   "cell_type": "code",
   "execution_count": null,
   "metadata": {
    "collapsed": false
   },
   "outputs": [],
   "source": [
    "import numpy as np\n",
    "import seaborn as sns\n",
    "import matplotlib.pyplot as plt\n",
    "%matplotlib inline\n",
    "np.random.seed(sum(map(ord, \"palettes\")))"
   ]
  },
  {
   "cell_type": "markdown",
   "metadata": {},
   "source": [
    "<a id='pal'></a>\n",
    "### Palettes\n",
    "\n",
    "As mentioned, one criticism which has been levelled against MatPlotLib is that the default color palettes leave much to be desired.  Seaborn has a number of built-in basic palettes available which provide a pleasant aesthetic."
   ]
  },
  {
   "cell_type": "code",
   "execution_count": null,
   "metadata": {
    "collapsed": false
   },
   "outputs": [],
   "source": [
    "current_palette = sns.color_palette()\n",
    "print(current_palette)\n",
    "sns.palplot(current_palette)\n",
    "\n",
    "gammas = sns.load_dataset(\"gammas\")\n",
    "plt.figure(figsize=(12, 6))\n",
    "sns.tsplot(gammas, \"timepoint\", \"subject\", \"ROI\", \"BOLD signal\", color=current_palette);"
   ]
  },
  {
   "cell_type": "markdown",
   "metadata": {},
   "source": [
    "Removing chart junk (grid lines, etc.) is as simple as `despine()`:"
   ]
  },
  {
   "cell_type": "code",
   "execution_count": null,
   "metadata": {
    "collapsed": false
   },
   "outputs": [],
   "source": [
    "sns.set(style='ticks', palette='Set2')\n",
    "sns.tsplot(gammas, \"timepoint\", \"subject\", \"ROI\", \"BOLD signal\", color=current_palette);\n",
    "sns.despine()"
   ]
  },
  {
   "cell_type": "markdown",
   "metadata": {},
   "source": [
    "We can use built-in Seaborn palettes or pull from MatPlotLib [colormaps](http://matplotlib.org/examples/color/colormaps_reference.html?highlight=cmap)."
   ]
  },
  {
   "cell_type": "code",
   "execution_count": null,
   "metadata": {
    "collapsed": false
   },
   "outputs": [],
   "source": [
    "# Built-in Seaborn variations\n",
    "sns.palplot(sns.color_palette(\"pastel\", 8))\n",
    "sns.palplot(sns.color_palette(\"deep\", 8))\n",
    "sns.palplot(sns.color_palette(\"dark\", 8))\n",
    "sns.palplot(sns.color_palette(\"colorblind\", 8))\n",
    "\n",
    "# Selections from MPL colormaps.\n",
    "sns.palplot(sns.color_palette(\"coolwarm\", 8))\n",
    "sns.palplot(sns.color_palette(\"gist_earth\", 8))\n",
    "sns.palplot(sns.color_palette(\"Paired\", 10))\n",
    "sns.palplot(sns.color_palette(\"RdPu_r\", 8))"
   ]
  },
  {
   "cell_type": "markdown",
   "metadata": {},
   "source": [
    "`blend_palette()` allows you to interpolate between an arbitrary number of specified MatPlotLib colors."
   ]
  },
  {
   "cell_type": "code",
   "execution_count": null,
   "metadata": {
    "collapsed": false
   },
   "outputs": [],
   "source": [
    "sns.palplot(sns.blend_palette([\"indigo\", \"#fff3f4\",\"royalblue\"], 12))"
   ]
  },
  {
   "cell_type": "markdown",
   "metadata": {},
   "source": [
    "There are [a few more ways](http://stanford.edu/~mwaskom/software/seaborn/tutorial/color_palettes.html) to generate and use palettes in both MatPlotLib and Seaborn, but this should give you a good feel for the flexibility and ease-of-use of this way of working with color."
   ]
  },
  {
   "cell_type": "markdown",
   "metadata": {},
   "source": [
    "Finally, palettes are invoked using the `color` `kwarg` in Seaborn:"
   ]
  },
  {
   "cell_type": "code",
   "execution_count": null,
   "metadata": {
    "collapsed": false
   },
   "outputs": [],
   "source": [
    "plt.figure(figsize=(12, 6))\n",
    "sns.tsplot(gammas, \"timepoint\", \"subject\", \"ROI\", \"BOLD signal\", color=sns.color_palette(\"RdPu_r\", 3));"
   ]
  },
  {
   "cell_type": "markdown",
   "metadata": {},
   "source": [
    "---\n",
    "<a id='prof-more'></a>\n",
    "## More Professional Plotting\n",
    "\n",
    "- Output plots as vector images (`eps` (preferred) or `svg`) as well as raster (`png` (preferred), `gif`, or `jpg`).  This allows you to generate new versions with more detail if necessary.  Also have a clearly documented section of code and data for each image in order to reproduce images as well if necessary."
   ]
  },
  {
   "cell_type": "code",
   "execution_count": null,
   "metadata": {
    "collapsed": false
   },
   "outputs": [],
   "source": [
    "from numpy.polynomial import Chebyshev as T\n",
    "from numpy.polynomial import Polynomial as P\n",
    "x = np.linspace(-1, 1, 100)\n",
    "for i in range(6):\n",
    "    ax = plt.plot(x, T.basis(i)(x), lw=2, label=r'$T_%d$'%i)\n",
    "plt.legend(loc=\"upper left\")\n",
    "plt.savefig('chebyshev.jpg', dpi=120, transparent=True)\n",
    "plt.savefig('chebyshev.png', dpi=120, transparent=True)\n",
    "plt.savefig('chebyshev.eps', dpi=120, transparent=True)\n",
    "plt.savefig('chebyshev.svg', dpi=120, transparent=True)\n",
    "plt.show()"
   ]
  },
  {
   "cell_type": "markdown",
   "metadata": {},
   "source": [
    "- Prefer figures to tables.  (Tabular data can be included in an appendix if necessary.)  Data comprehension is much better when viewing graphical representations."
   ]
  },
  {
   "cell_type": "markdown",
   "metadata": {},
   "source": [
    "- Consider utilizing a CUBEHELIX palette in documents which may be printed or accessed in black and white<sup>[[citation](http://adsabs.harvard.edu/abs/2011BASI...39..289G)]; [[tutorial](http://www.mrao.cam.ac.uk/~dag/CUBEHELIX/)]</sup>.  The CUBEHELIX algorithm generates color palettes which continuously increase (or decrease) in intensity regardless of the hue, thus making them acceptable to print or view in monochrome and for individuals with any form of colorblindness.  They also stand up well in desaturated environments like lousy projectors in overbright rooms.  The basic CUBEHELIX palette is available in MatPlotLib and thus any of its derivatives; the module [`cubehelix`](https://github.com/jradavenport/cubehelix) is also available to generate more variations.\n",
    "\n",
    "Basically, the CUBEHELIX algorithm desaturates consistently through a given color space ([more info here](http://stackoverflow.com/a/15623251/1272411)).\n",
    "\n",
    "![](http://i.stack.imgur.com/3Izz0.jpg)"
   ]
  },
  {
   "cell_type": "code",
   "execution_count": null,
   "metadata": {
    "collapsed": false
   },
   "outputs": [],
   "source": [
    "from scipy.special import j0\n",
    "def func(x, y):\n",
    "    return j0(8*np.pi*x) * np.sin(2*np.pi*np.sqrt(y))\n",
    "\n",
    "# Define the basic grid coordinates.\n",
    "grid_x, grid_y = np.mgrid[0:0.2:250j, 0:0.4:250j]\n",
    "\n",
    "from matplotlib import cm\n",
    "plt.subplot('121')\n",
    "plt.imshow(func(grid_x, grid_y).T, extent=(0,0.2,0,0.4), origin='lower', cmap=cm.cubehelix_r)\n",
    "plt.title(r'$z(x, y) = J_{0}(8\\pi x) \\sin(2 \\pi \\sqrt{y})$')\n",
    "plt.xlabel(r'$x$')\n",
    "plt.ylabel(r'$y$')\n",
    "\n",
    "import cubehelix\n",
    "plt.subplot('122')\n",
    "plt.imshow(func(grid_x, grid_y).T, extent=(0,0.2,0,0.4), origin='lower', cmap=cubehelix.cmap(reverse=True, start=0.3, rot=0.5))\n",
    "plt.title(r'$z(x, y) = J_{0}(8\\pi x) \\sin(2 \\pi \\sqrt{y})$')\n",
    "plt.xlabel(r'$x$')\n",
    "plt.ylabel(r'$y$')\n",
    "\n",
    "\n",
    "plt.gcf().set_size_inches(8, 4)\n",
    "plt.show()"
   ]
  },
  {
   "cell_type": "markdown",
   "metadata": {},
   "source": [
    "---\n",
    "<a id='refs'></a>\n",
    "## References\n",
    "\n",
    "- Langtangen, Hans Petter.  _Python Scripting for Computational Science_, 3ed.  Berlin–Heidelberg:  Springer–Verlag, 2009.\n",
    "- Lugo, Michael.  [On propagation of errors](http://gottwurfelt.com/2012/03/26/on-propagation-of-errors/).  26 March 2012.\n",
    "- Warren, Russell.  [A Brief Intro to Profiling in Python](https://speakerdeck.com/rwarren/a-brief-intro-to-profiling-in-python).  Ottawa Python Authors Group, 28 February 2013.\n",
    "\n",
    "### Seaborn\n",
    "- Waskon, Michael.  [Choosing color palettes](http://stanford.edu/~mwaskom/software/seaborn/tutorial/color_palettes.html).\n",
    "- Brewer, Cynthia.  [ColorBrewer](http://colorbrewer2.org/)."
   ]
  },
  {
   "cell_type": "markdown",
   "metadata": {},
   "source": [
    "---\n",
    "<a id='credits'></a>\n",
    "## Credits\n",
    "\n",
    "Neal Davis, Lakshmi Rao and Rinat Khaziev developed these materials for [Computational Science and Engineering](http://cse.illinois.edu/) at the University of Illinois at Urbana–Champaign.\n",
    "\n",
    "<img src=\"http://i.creativecommons.org/l/by/4.0/88x31.png\" align=\"left\">\n",
    "This content is available under a [Creative Commons Attribution 4.0 Unported License](https://creativecommons.org/licenses/by/4.0/).\n",
    "\n",
    "[![](https://bytebucket.org/davis68/resources/raw/f7c98d2b95e961fae257707e22a58fa1a2c36bec/logos/baseline_cse_wdmk.png?token=be4cc41d4b2afe594f5b1570a3c5aad96a65f0d6)](http://cse.illinois.edu/)"
   ]
  }
 ],
 "metadata": {
  "kernelspec": {
   "display_name": "Python 2",
   "language": "python",
   "name": "python2"
  },
  "language_info": {
   "codemirror_mode": {
    "name": "ipython",
    "version": 2
   },
   "file_extension": ".py",
   "mimetype": "text/x-python",
   "name": "python",
   "nbconvert_exporter": "python",
   "pygments_lexer": "ipython2",
   "version": "2.7.12"
  }
 },
 "nbformat": 4,
 "nbformat_minor": 0
}
