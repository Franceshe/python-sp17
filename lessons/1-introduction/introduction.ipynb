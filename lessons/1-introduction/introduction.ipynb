{
 "cells": [
  {
   "cell_type": "markdown",
   "metadata": {},
   "source": [
    "# Why Python?\n",
    "\n",
    "Python is a widely used high-level programming language used for general-purpose programming, created by Guido van Rossum and first released in 1991. An interpreted language, Python has a design philosophy which emphasizes code readability (notably using whitespace indentation to delimit code blocks rather than curly braces or keywords), and a syntax which allows programmers to express concepts in fewer lines of code than possible in languages such as C++ or Java. The language provides constructs intended to enable writing clear programs on both a small and large scale.\n",
    "\n",
    "The functionality of the standard Python library could be extended by modules, that store the source code of the functions and classes, and instances of the variable and classes. Currently, there are more than 98K open-source Python packages available for the community (avaliable through [PyPI](https://pypi.python.org/pypi)), and packages application include numerical methods, linear algebra, machine learning, visualization, social media APIs, data base connections, etc."
   ]
  },
  {
   "cell_type": "markdown",
   "metadata": {},
   "source": [
    "# How to run Python on your computer\n",
    "\n",
    "Python is usually readily available on any Linux distribution, however Window and Mac users will have to install python on their machines. There are many solid Python distributions, however we recommend using [Anaconda](https://www.continuum.io/downloads) due to great compatibility between available modules in Anaconda.\n",
    "\n",
    "Once python is available on computer there are multiple option on writing and executing Python code.\n",
    "\n",
    "### Running python from command line and using text editor to write code\n",
    "\n",
    "Python code can be executed deirectly from python termial. Type following commands in the command line to invoke python terminal and print \"Hello World\"\n",
    "\n",
    "    python\n",
    "    print('Hello World')\n",
    "    \n",
    "To exit python terminal use \n",
    "\n",
    "    exit()\n",
    "    \n",
    "function. If a code saved in the file (for example 'test.py') it can be executed using\n",
    "\n",
    "    python hello_world.py\n",
    "    \n",
    "Try both of this examples in the command line.\n",
    "\n",
    "### Use IDE \n",
    "There are multiple integrated development environments (IDE) available for Python development. Spyder IDE include variable explorer, text editor and command line, it might be the best choice for MATLAB users who are trying to migrate to Python.\n",
    "<img src=\"https://upload.wikimedia.org/wikipedia/commons/1/1b/Spyder-windows-screenshot.png\" width=\"500\">\n",
    "\n",
    "However for Python software development, specialize IDEs, like PyCharm, might be recommended.\n",
    "\n",
    "\n",
    "### Jupyter Notebook.\n",
    "\n",
    "The Jupyter Notebook is a web application that allows you to create and share documents that contain live code, equations, visualizations and explanatory text. Uses include: data cleaning and transformation, numerical simulation, statistical modeling, machine learning and much more. Jupyter Notebooks could be executed with Python, R, Julia, and other languages. Jupyter notebook is an excellent choice for producing short annotated scripts and provong interactive visualization. We will be using Jupyter Notebooks in this workshops series."
   ]
  },
  {
   "cell_type": "markdown",
   "metadata": {},
   "source": [
    "# Basic arithmetic operations\n",
    "\n",
    "Standard python recognizes basic mathematical operations\n",
    "\n",
    "|Operator | Description | Example|\n",
    "|--------|--------|--------|\n",
    "| `+` | Addition | `11+2` |\n",
    "| `-` | Subtraction | `11-2` |\n",
    "| `*` | Multiplication | `11*2`|\n",
    "| `/` | Division | `11/2` |\n",
    "| `**` | Exponentiation/power calculation | `2**3`|\n",
    "| `%` | Modulus | `11%2` |\n",
    "| `//` | Integer Division | `11//2` |\n",
    "\n",
    "The results of the first four operations is evaluated below. To execute the cell, select the cell and press `Ctrl+Enter`"
   ]
  },
  {
   "cell_type": "code",
   "execution_count": null,
   "metadata": {
    "collapsed": false
   },
   "outputs": [],
   "source": [
    "11+2"
   ]
  },
  {
   "cell_type": "code",
   "execution_count": null,
   "metadata": {
    "collapsed": false
   },
   "outputs": [],
   "source": [
    "11-2"
   ]
  },
  {
   "cell_type": "code",
   "execution_count": null,
   "metadata": {
    "collapsed": false
   },
   "outputs": [],
   "source": [
    "11*2"
   ]
  },
  {
   "cell_type": "code",
   "execution_count": null,
   "metadata": {
    "collapsed": false
   },
   "outputs": [],
   "source": [
    "11/2"
   ]
  },
  {
   "cell_type": "markdown",
   "metadata": {},
   "source": [
    "Try checking the result of the rest of the operators in the cell below. Note the difference between two division `/` and `//` operators."
   ]
  },
  {
   "cell_type": "code",
   "execution_count": null,
   "metadata": {
    "collapsed": true
   },
   "outputs": [],
   "source": [
    "# Try evaluating the rest of the operator (**, % and //) here\n",
    "# To insert new cell used ESC+B\n",
    "#WRITE YOUR CODE BELOW THIS LINE\n"
   ]
  },
  {
   "cell_type": "markdown",
   "metadata": {},
   "source": [
    "# Basic built-in data types\n",
    "\n",
    "| Data Type | Classification | Mutable | Example |\n",
    "|------|-----|-----|-----|\n",
    "| int | numeric | no | -1 |\n",
    "|float | numeric | no | -1.2 | \n",
    "| complex | numeric | no | 2.2 + 3.2j |\n",
    "| str | sequence(string) | yes | 'Hail to the Orange.' | \n",
    "| tuple | sequence | no | (2, 14, 2017, 'CSE', 2) |\n",
    "| list | sequence | yes | [2, 14, 2017, 'CSE', 2] |\n",
    "| set | Sets | yes | {2, 14, 2017, 'CSE'} |\n",
    "| dict | Map (hash-table) | yes | {'month': 2, 'date': 14, 'year' :2017, 'class': 'CSE', 'i need this number here': 2} \n",
    "\n",
    "\n",
    "Data type determines the type of the operation that is allowed to be perfromed on the object. Python does not require explicit type specification for the variables. The type of an object is stored with the object, and is checked when the operation is performed whether that operation makes sense for that object (this is called dynamic typing). For example `10` could be asigned to the same variables and depending on the operation performed to the variable the result might be different.\n"
   ]
  },
  {
   "cell_type": "markdown",
   "metadata": {},
   "source": [
    "## Numeric Types\n",
    "\n",
    "To demostrate dynamic typing, an value of 10 will be assigned to `dynamic_variable` variable. First, let's see what is the type of the `dynamic_variable` using function `type()`"
   ]
  },
  {
   "cell_type": "code",
   "execution_count": null,
   "metadata": {
    "collapsed": false
   },
   "outputs": [],
   "source": [
    "dynamic_variable = 10\n",
    "type(dynamic_variable)"
   ]
  },
  {
   "cell_type": "markdown",
   "metadata": {},
   "source": [
    "The result of the multiplication:"
   ]
  },
  {
   "cell_type": "code",
   "execution_count": null,
   "metadata": {
    "collapsed": false
   },
   "outputs": [],
   "source": [
    "type(dynamic_variable*2)"
   ]
  },
  {
   "cell_type": "markdown",
   "metadata": {},
   "source": [
    "As you have seen the returned value of the multiplication operator is `int`, now let's find what type will be assigned to the division of the `dynamic_variable` by 2"
   ]
  },
  {
   "cell_type": "code",
   "execution_count": null,
   "metadata": {
    "collapsed": false
   },
   "outputs": [],
   "source": [
    "#check what is type is returned for division\n",
    "# WRITE YOUR CODE BELOW\n"
   ]
  },
  {
   "cell_type": "markdown",
   "metadata": {},
   "source": [
    "Numeric data type can be enforced use the data type conversion functions. Check the result from the following code"
   ]
  },
  {
   "cell_type": "code",
   "execution_count": null,
   "metadata": {
    "collapsed": false
   },
   "outputs": [],
   "source": [
    "dynamic_variable = float(10)\n",
    "type(dynamic_variable)"
   ]
  },
  {
   "cell_type": "code",
   "execution_count": null,
   "metadata": {
    "collapsed": false
   },
   "outputs": [],
   "source": [
    "type(dynamic_variable*2)"
   ]
  },
  {
   "cell_type": "markdown",
   "metadata": {},
   "source": [
    "## Sequences (list, str, tuple)\n",
    "\n",
    "### Indexing and slicing\n",
    "\n",
    "Strings, list and tuples share similar slicing and indexing operations. Sequences could be easily accessed using appropriate integer indices, and the index values in Python start from 0. The valid index values could be positive in the range [0, n-1], where n is the length of the sequence, or negative in the range [-n, -1]. Negative indices are used to access sequences in the reverse order (from the end of the sequence). In order to practice with sequences lets use following example variables"
   ]
  },
  {
   "cell_type": "code",
   "execution_count": null,
   "metadata": {
    "collapsed": true
   },
   "outputs": [],
   "source": [
    "#Assign the values to the example variables\n",
    "string_example = 'Hail to the Orange.'\n",
    "tuple_example = (2, 14, 2017, 'CSE', 2)\n",
    "list_example = [2, 14, 2017, 'CSE', 2]"
   ]
  },
  {
   "cell_type": "markdown",
   "metadata": {},
   "source": [
    "we will use `print` function to evaluate to test different indexing approaches. First, let's try to use positive and negative integer indices to access the elements of the sequences."
   ]
  },
  {
   "cell_type": "code",
   "execution_count": null,
   "metadata": {
    "collapsed": false
   },
   "outputs": [],
   "source": [
    "#print elements of the string\n",
    "print('Number of elements in the string: {0}'.format(len(string_example)))\n",
    "print('0th element of the string: {0}'.format(string_example[0]))\n",
    "print('2nd element of the string: {0}'.format(string_example[2]))\n",
    "print('-1st element of the string: {0}'.format(string_example[-1]))\n",
    "print('-19st element of the string: {0}'.format(string_example[-19]))"
   ]
  },
  {
   "cell_type": "markdown",
   "metadata": {},
   "source": [
    "Besides accesing single values of the sequence, it is possible to subset or slice the sequences. In the next example, we will select all of the elements of the string except first one and the last 2 characters of the string, and we will select every third element of the string starting with index 1 and ending with index 14"
   ]
  },
  {
   "cell_type": "code",
   "execution_count": null,
   "metadata": {
    "collapsed": false
   },
   "outputs": [],
   "source": [
    "print('Sting without 1st and last 2 characters: {0}'.format(string_example[1:-2]))\n",
    "print('Every third element of the string...: {0}'.format(string_example[1:14:3]))"
   ]
  },
  {
   "cell_type": "markdown",
   "metadata": {},
   "source": [
    "Similar indexing and slicing operations are allowed for list and tuples, try accessing and slicing both tuple and list on your own"
   ]
  },
  {
   "cell_type": "code",
   "execution_count": null,
   "metadata": {
    "collapsed": false
   },
   "outputs": [],
   "source": [
    "#Practice with tuple in this cell\n",
    "print('Number of elements in the tuple: {0}'.format(len(tuple_example)))"
   ]
  },
  {
   "cell_type": "code",
   "execution_count": null,
   "metadata": {
    "collapsed": false
   },
   "outputs": [],
   "source": [
    "#Practice with list in this cell\n",
    "print('Number of elements in the list: {0}'.format(len(list_example)))"
   ]
  },
  {
   "cell_type": "markdown",
   "metadata": {},
   "source": [
    "### Shared functions\n",
    "\n",
    "| Function | Example |\n",
    "|-----|-----|\n",
    "|Concatenation | 'abc' + 'def'  |\n",
    "| Repetition | 'UIUC' *4 |\n",
    "| Membership | \"'U' in 'UIUC'\" or \"'A' not in 'UIUC'\" |"
   ]
  },
  {
   "cell_type": "markdown",
   "metadata": {},
   "source": [
    "For an example list try to concatenate to lists and print the result"
   ]
  },
  {
   "cell_type": "code",
   "execution_count": null,
   "metadata": {
    "collapsed": true
   },
   "outputs": [],
   "source": [
    "#example lists\n",
    "list_1 = [2, 0, 1, 7, 2, 1, 4]\n",
    "list_2 = ['CSE', 'UIUC']\n",
    "\n",
    "#write your code here"
   ]
  },
  {
   "cell_type": "markdown",
   "metadata": {},
   "source": [
    "Repetition of the list"
   ]
  },
  {
   "cell_type": "code",
   "execution_count": null,
   "metadata": {
    "collapsed": false
   },
   "outputs": [],
   "source": [
    "#execute following code\n",
    "list_1 = ['CSE', '@', 'UIUC'] * 5\n",
    "print(list_1)"
   ]
  },
  {
   "cell_type": "markdown",
   "metadata": {},
   "source": [
    "Check membership of the element"
   ]
  },
  {
   "cell_type": "code",
   "execution_count": null,
   "metadata": {
    "collapsed": false
   },
   "outputs": [],
   "source": [
    "list_example = [2, 14, 2017, 'CSE', 2]\n",
    "print('2 is in list_example: {0}'.format(2 in list_example))\n",
    "print('2 is not in list_example: {0}'.format(2 not in list_example))"
   ]
  },
  {
   "cell_type": "markdown",
   "metadata": {},
   "source": [
    "### Strings\n",
    "\n",
    "Some of the string functions:\n",
    "- format\n",
    "- strip\n",
    "- lower\n",
    "\n",
    "A full set of the string functions could be found at https://docs.python.org/3/library/string.html\n",
    "\n",
    "An example of the `format` function is using `datetime` module to print current date"
   ]
  },
  {
   "cell_type": "code",
   "execution_count": null,
   "metadata": {
    "collapsed": false
   },
   "outputs": [],
   "source": [
    "#example string\n",
    "import datetime\n",
    "today = datetime.date.today()\n",
    "temperature = 20\n",
    "example_string = 'Today is {0}, and the temperature is {1} F'.format(today, temperature)\n",
    "print(example_string)"
   ]
  },
  {
   "cell_type": "code",
   "execution_count": null,
   "metadata": {
    "collapsed": false
   },
   "outputs": [],
   "source": [
    "print('Result of lower():' ,example_string.lower())\n",
    "print('Result of split():', example_string.split())"
   ]
  },
  {
   "cell_type": "markdown",
   "metadata": {},
   "source": [
    "What is the return value of all of those functions?"
   ]
  },
  {
   "cell_type": "markdown",
   "metadata": {},
   "source": [
    "### Lists\n",
    "\n",
    "Try executing following statements for `example_list`:\n",
    "- `example_list.append('CSE')`\n",
    "- `example_list.insert(1,5)`\n",
    "- `example_list.reverse()`\n",
    "- `example_list.count(5)`\n",
    "- `example_list.remove(5)`\n",
    "\n",
    "Use `Esc + B` to add a new cell in the notebook"
   ]
  },
  {
   "cell_type": "code",
   "execution_count": null,
   "metadata": {
    "collapsed": true
   },
   "outputs": [],
   "source": [
    "#use example list to practice aformentioned functions\n",
    "example_list = [2, 14, 2017, 'CSE', 2]\n"
   ]
  },
  {
   "cell_type": "markdown",
   "metadata": {},
   "source": [
    "### Tuples\n",
    "\n",
    "Unlike list, tuple is not a mutable data type. In other words, a elements of the tuple could not be modified after initializaiton"
   ]
  },
  {
   "cell_type": "code",
   "execution_count": null,
   "metadata": {
    "collapsed": false
   },
   "outputs": [],
   "source": [
    "example_list = [2, 14, 2017, 'CSE', 2]\n",
    "print('original list: ', example_list)\n",
    "\n",
    "example_list[2] = 2016\n",
    "print('original list: ', example_list)"
   ]
  },
  {
   "cell_type": "markdown",
   "metadata": {},
   "source": [
    "Write similar code for `example_tuple`:"
   ]
  },
  {
   "cell_type": "code",
   "execution_count": null,
   "metadata": {
    "collapsed": true
   },
   "outputs": [],
   "source": [
    "example_tuple = (2, 14, 2017, 'CSE', 2)\n",
    "\n",
    "#write your code here"
   ]
  },
  {
   "cell_type": "markdown",
   "metadata": {},
   "source": [
    "However tuples are expandable:"
   ]
  },
  {
   "cell_type": "code",
   "execution_count": null,
   "metadata": {
    "collapsed": false
   },
   "outputs": [],
   "source": [
    "example_tuple += ('@', 'UIUC')\n",
    "print(example_tuple)"
   ]
  },
  {
   "cell_type": "markdown",
   "metadata": {},
   "source": [
    "## Dictionaries\n",
    "\n",
    "Unlike sequences, which are indexed by a range of numbers, dictionaries are indexed by keys, which can be any immutable type; strings and numbers can always be keys. Tuples can be used as keys if they contain only strings, numbers, or tuples; if a tuple contains any mutable object either directly or indirectly, it cannot be used as a key. You can’t use lists as keys, since lists can be modified in place using index assignments, slice assignments, or methods like append() and extend().\n",
    "\n",
    "### Dictionary methods\n",
    "\n",
    "Initiaze dictionary"
   ]
  },
  {
   "cell_type": "code",
   "execution_count": null,
   "metadata": {
    "collapsed": true
   },
   "outputs": [],
   "source": [
    "test_dictionary = {}"
   ]
  },
  {
   "cell_type": "markdown",
   "metadata": {},
   "source": [
    "Adding new keys"
   ]
  },
  {
   "cell_type": "code",
   "execution_count": null,
   "metadata": {
    "collapsed": false
   },
   "outputs": [],
   "source": [
    "test_dictionary['a'] = 0\n",
    "test_dictionary['words'] = ['UIUC', 'CSE']\n",
    "test_dictionary['we will delete this key'] = ['for sure']\n",
    "print(test_dictionary)"
   ]
  },
  {
   "cell_type": "markdown",
   "metadata": {},
   "source": [
    "Indexing"
   ]
  },
  {
   "cell_type": "code",
   "execution_count": null,
   "metadata": {
    "collapsed": false
   },
   "outputs": [],
   "source": [
    "test_dictionary['words']"
   ]
  },
  {
   "cell_type": "markdown",
   "metadata": {},
   "source": [
    "Modify dictionary elements"
   ]
  },
  {
   "cell_type": "code",
   "execution_count": null,
   "metadata": {
    "collapsed": false
   },
   "outputs": [],
   "source": [
    "test_dictionary['we will delete this key'].append('definity')\n",
    "test_dictionary['a'] += 1\n",
    "print(test_dictionary)"
   ]
  },
  {
   "cell_type": "markdown",
   "metadata": {},
   "source": [
    "Delete a key"
   ]
  },
  {
   "cell_type": "code",
   "execution_count": null,
   "metadata": {
    "collapsed": false
   },
   "outputs": [],
   "source": [
    "del test_dictionary['we will delete this key']\n",
    "print(test_dictionary)"
   ]
  },
  {
   "cell_type": "markdown",
   "metadata": {},
   "source": [
    "Check if the key is in the dictionary"
   ]
  },
  {
   "cell_type": "code",
   "execution_count": null,
   "metadata": {
    "collapsed": false
   },
   "outputs": [],
   "source": [
    "'I am pretty sure that this key is not' in test_dictionary"
   ]
  },
  {
   "cell_type": "code",
   "execution_count": null,
   "metadata": {
    "collapsed": false
   },
   "outputs": [],
   "source": [
    "'a' in test_dictionary"
   ]
  },
  {
   "cell_type": "markdown",
   "metadata": {},
   "source": [
    "# Loops and conditional statements"
   ]
  },
  {
   "cell_type": "markdown",
   "metadata": {},
   "source": [
    "## If statement\n",
    "\n",
    "Comparison operators\n",
    "\n",
    "| Operator | Description | Example |\n",
    "|------|------|-----|\n",
    "|`==`| If the values of two operands are equal, then the condition becomes true.\t| `(a == b)` is not true. |\n",
    "|`!=` | If values of two operands are not equal, then condition becomes true. | |\n",
    "|`>`\t| If the value of left operand is greater than the value of right operand, then condition becomes true. |\t`(a > b)` is not true.|\n",
    "|`<`\t| If the value of left operand is less than the value of right operand, then condition becomes true. |`(a < b)` is true.|\n",
    "|`>=` |\tIf the value of left operand is greater than or equal to the value of right operand, then condition becomes true. |\t`(a >= b)` is not true.|\n",
    "|`<=` |\tIf the value of left operand is less than or equal to the value of right operand, then condition becomes true.\t| `(a <= b)` is true.|"
   ]
  },
  {
   "cell_type": "code",
   "execution_count": null,
   "metadata": {
    "collapsed": false
   },
   "outputs": [],
   "source": [
    "x = 10\n",
    "if x < 0:\n",
    "    x = 0\n",
    "    print('Negative changed to zero')\n",
    "elif x == 0:\n",
    "    print('Zero')\n",
    "elif x == 1:\n",
    "    print('Single')\n",
    "else:\n",
    "    print('More')"
   ]
  },
  {
   "cell_type": "markdown",
   "metadata": {},
   "source": [
    "Any operation that return boolean variable (True, False) is permitted in the `if/else` statements"
   ]
  },
  {
   "cell_type": "code",
   "execution_count": null,
   "metadata": {
    "collapsed": true
   },
   "outputs": [],
   "source": [
    "test_string = \"Any operation that return boolean variable (True, False) is permitted in the `if/else` statements\"\n",
    "test_dict = {'month': 2, 'date': 14, 'year' :2017, 'class': 'CSE', 'i need this number here': 2}\n",
    "\n",
    "if  1 == 0:\n",
    "    print('test_dict is not string')\n",
    "elif (type(test_dict) is dict) and (type(test_string) is str):\n",
    "    print('OK')\n",
    "else:\n",
    "    print('Seems right')\n"
   ]
  },
  {
   "cell_type": "markdown",
   "metadata": {},
   "source": [
    "## Loops\n",
    "\n",
    "The for statement in Python differs a bit from what you may be used to in C or Pascal. Rather than always iterating over an arithmetic progression of numbers (like in Pascal), or giving the user the ability to define both the iteration step and halting condition (as C), Python’s for statement iterates over the items of any sequence (a list or a string), in the order that they appear in the sequence. For example (no pun intended):\n",
    "\n",
    "Split `test_string` by words using `split` function, and print each word"
   ]
  },
  {
   "cell_type": "code",
   "execution_count": null,
   "metadata": {
    "collapsed": false
   },
   "outputs": [],
   "source": [
    "#use the test string\n",
    "test_string = '''Hail to the Orange. \n",
    "Hail to the Blue. \n",
    "Hail Alma Mater, \n",
    "Ever so true.\n",
    "We love no other, \n",
    "So let our motto be \n",
    "Victory, Illinois, Varsity.'''\n",
    "\n",
    "#fill the missing code\n",
    "\n",
    "#split the test string in the words\n",
    "words = \n",
    "\n",
    "#print each word\n",
    "for word in words:\n",
    "    print()"
   ]
  },
  {
   "cell_type": "markdown",
   "metadata": {},
   "source": [
    "Print every word that is longer than 7 character in the `test_string`. Use `len` function to determine the length of the word"
   ]
  },
  {
   "cell_type": "code",
   "execution_count": null,
   "metadata": {
    "collapsed": false
   },
   "outputs": [],
   "source": [
    "#print each word that is longer than 7 characters and return a list\n",
    "for word in words:\n",
    "    if SOME_STATEMENT :\n",
    "        #print here\n",
    "       \n",
    "        #append here\n",
    "        "
   ]
  },
  {
   "cell_type": "markdown",
   "metadata": {},
   "source": [
    "List comprehensions provide a concise way to create lists. \n",
    "\n",
    "It consists of brackets containing an expression followed by a for clause, then\n",
    "zero or more for or if clauses. The expressions can be anything, meaning you can\n",
    "put in all kinds of objects in lists.\n",
    "\n",
    "The result will be a new list resulting from evaluating the expression in the\n",
    "context of the for and if clauses which follow it. \n",
    "\n",
    "The list comprehension always returns a result list. "
   ]
  },
  {
   "cell_type": "code",
   "execution_count": null,
   "metadata": {
    "collapsed": false
   },
   "outputs": [],
   "source": [
    "list_example = [x**2 for x in range(5)]\n",
    "print(list_example)"
   ]
  },
  {
   "cell_type": "markdown",
   "metadata": {},
   "source": [
    "Use list comprehension to generate a list of words that are longer than 7 characters"
   ]
  },
  {
   "cell_type": "code",
   "execution_count": null,
   "metadata": {
    "collapsed": false
   },
   "outputs": [],
   "source": [
    "#write your code here\n",
    "words_7 = \n",
    "print(words_7)"
   ]
  },
  {
   "cell_type": "markdown",
   "metadata": {},
   "source": [
    "Simple "
   ]
  },
  {
   "cell_type": "markdown",
   "metadata": {},
   "source": [
    "## range statement\n",
    "\n",
    "range(n)\n",
    "- stop: Number of integers (whole numbers) to generate, starting from zero. eg. range(3) == [0, 1, 2].\n",
    "\n",
    "range([start], stop[, step])\n",
    "- start: Starting number of the sequence.\n",
    "- stop: Generate numbers up to, but not including this number.\n",
    " -step: Difference between each number in the sequence.\n",
    "\n",
    "Check what does range statement prints, convert the output of the range statement to list"
   ]
  },
  {
   "cell_type": "code",
   "execution_count": null,
   "metadata": {
    "collapsed": true
   },
   "outputs": [],
   "source": [
    "#YOUR CODE HERE\n",
    "print(  )"
   ]
  },
  {
   "cell_type": "markdown",
   "metadata": {},
   "source": [
    "Example of range usage in the for loop"
   ]
  },
  {
   "cell_type": "code",
   "execution_count": null,
   "metadata": {
    "collapsed": false
   },
   "outputs": [],
   "source": [
    "for x in range(4):\n",
    "    print(x)"
   ]
  },
  {
   "cell_type": "markdown",
   "metadata": {},
   "source": [
    "A new built-in function, enumerate(), will make certain loops a bit clearer. enumerate(thing), where thing is either an iterator or a sequence, returns a iterator that will return (0, thing[0]), (1, thing[1]), (2, thing[2]), and so forth."
   ]
  },
  {
   "cell_type": "code",
   "execution_count": null,
   "metadata": {
    "collapsed": false
   },
   "outputs": [],
   "source": [
    "example_list = [1,5,3,2]\n",
    "\n",
    "for i, x in enumerate(example_list):\n",
    "    print(i, x)"
   ]
  },
  {
   "cell_type": "markdown",
   "metadata": {},
   "source": [
    "# Example"
   ]
  },
  {
   "cell_type": "markdown",
   "metadata": {},
   "source": [
    "We will use `for` loops and dictionary data structure to count the number of words in the string. Use dictionary to store the counts of each character and use character as a key of dictionary. "
   ]
  },
  {
   "cell_type": "code",
   "execution_count": null,
   "metadata": {
    "collapsed": false
   },
   "outputs": [],
   "source": [
    "#input string\n",
    "test_string = '''Hail to the Orange. \n",
    "Hail to the Blue. \n",
    "Hail Alma Mater, \n",
    "Ever so true.\n",
    "We love no other, \n",
    "So let our motto be \n",
    "Victory, Illinois, Varsity.'''\n",
    "\n",
    "#your code here"
   ]
  },
  {
   "cell_type": "markdown",
   "metadata": {},
   "source": [
    "# How to define a function\n",
    "\n",
    "You can define functions to provide the required functionality. Here are simple rules to define a function in Python.\n",
    "- Function blocks begin with the keyword def followed by the function name and parentheses ( ( ) ).\n",
    "- Any input parameters or arguments should be placed within these parentheses. You can also define parameters inside these parentheses.\n",
    "- The first statement of a function can be an optional statement - the documentation string of the function or docstring.\n",
    "- The code block within every function starts with a colon (:) and is indented.\n",
    "- The statement return [expression] exits a function, optionally passing back an expression to the caller. A return statement with no arguments is the same as return None.\n",
    "\n",
    "```python\n",
    "def return_integers(input)\n",
    "'''\n",
    "\n",
    "Returns list of string elements from the list input\n",
    "---------------------------------------------------\n",
    "\n",
    "Parameters:\n",
    "    input - list\n",
    "'''\n",
    "    return [x for x in input if type(x) is str]\n",
    "```\n",
    "\n",
    "If no return statement is provided function will return `None`\n",
    "\n",
    "Write a functions that take a string as an input and returns a dictionary of character counts."
   ]
  },
  {
   "cell_type": "code",
   "execution_count": null,
   "metadata": {
    "collapsed": true
   },
   "outputs": [],
   "source": [
    "#write your code here, do not forget to leave comment to the function\n",
    "\n",
    "def character_counter(input):\n",
    "    \n",
    "    \n",
    "    \n",
    "    return"
   ]
  },
  {
   "cell_type": "code",
   "execution_count": null,
   "metadata": {
    "collapsed": false
   },
   "outputs": [],
   "source": [
    "test_string = '''Hail to the Orange. \n",
    "Hail to the Blue. \n",
    "Hail Alma Mater, \n",
    "Ever so true.\n",
    "We love no other, \n",
    "So let our motto be \n",
    "Victory, Illinois, Varsity.'''\n",
    "\n",
    "print(character_counter(test_string))"
   ]
  },
  {
   "cell_type": "markdown",
   "metadata": {},
   "source": [
    "# Python modules\n",
    "\n",
    "## What is a module?\n",
    " \n",
    "\n",
    "If you quit from the Python interpreter and enter it again, the definitions you have made (functions and variables) are lost. Therefore, if you want to write a somewhat longer program, you are better off using a text editor to prepare the input for the interpreter and running it with that file as input instead. This is known as creating a script. As your program gets longer, you may want to split it into several files for easier maintenance. You may also want to use a handy function that you’ve written in several programs without copying its definition into each program.\n",
    "\n",
    "To support this, Python has a way to put definitions in a file and use them in a script or in an interactive instance of the interpreter. Such a file is called a module; definitions from a module can be imported into other modules or into the main module (the collection of variables that you have access to in a script executed at the top level and in calculator mode).\n",
    "\n",
    "## How to use a module\n",
    "\n",
    "In order to use the function of classes available in of the python modules, the module itself has to be imported into the python enironment. \n",
    "\n",
    "For the next example we will import `numpy` and `matplotlib` package to make a simple plot. check what is the result of the `np.linspace(0, 100, 10)` function, change the values of the function parameters"
   ]
  },
  {
   "cell_type": "code",
   "execution_count": null,
   "metadata": {
    "collapsed": true
   },
   "outputs": [],
   "source": [
    "import numpy as np\n",
    "#write your code here\n"
   ]
  },
  {
   "cell_type": "code",
   "execution_count": null,
   "metadata": {
    "collapsed": false
   },
   "outputs": [],
   "source": [
    "%matplotlib inline\n",
    "\n",
    "import numpy as np\n",
    "import matplotlib.pyplot as plt\n",
    "x = np.linspace(0, 100, 100)\n",
    "y = x**2\n",
    "\n",
    "plt.plot(x, y)\n",
    "plt.show()"
   ]
  },
  {
   "cell_type": "markdown",
   "metadata": {},
   "source": [
    "# How to install packages"
   ]
  },
  {
   "cell_type": "markdown",
   "metadata": {},
   "source": [
    "pip install PACKAGE_NAME\n",
    "\n",
    "conda install PACKAGE_NAME"
   ]
  },
  {
   "cell_type": "markdown",
   "metadata": {},
   "source": [
    "## References\n",
    "1. [Python on Wikipedia](https://en.wikipedia.org/wiki/Python_(programming_language))\n",
    "2. [Python data types description](https://en.wikibooks.org/wiki/Python_Programming/Data_Types)\n",
    "3. [Python for Beginners](http://www.pythonforbeginners.com/basics/list-comprehensions-in-python)"
   ]
  }
 ],
 "metadata": {
  "kernelspec": {
   "display_name": "Python 3",
   "language": "python",
   "name": "python3"
  },
  "language_info": {
   "codemirror_mode": {
    "name": "ipython",
    "version": 3
   },
   "file_extension": ".py",
   "mimetype": "text/x-python",
   "name": "python",
   "nbconvert_exporter": "python",
   "pygments_lexer": "ipython3",
   "version": "3.4.5"
  }
 },
 "nbformat": 4,
 "nbformat_minor": 0
}
